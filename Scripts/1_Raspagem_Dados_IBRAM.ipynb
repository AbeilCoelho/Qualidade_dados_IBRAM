{
 "cells": [
  {
   "cell_type": "code",
   "execution_count": null,
   "id": "2037c6bc",
   "metadata": {},
   "outputs": [],
   "source": [
    "# Autor: Abeil Coelho Júnior | Universidade Federal do Espírito Sando | PPGCI\n",
    "# Data de criação: 01/06/2022\n",
    "# Descrição: Exportar em lote todos os dados das coleções disponívies online pelo IBRAM.\n",
    "# Versão: 1\n",
    "# Data de modificação: 13/06/2022"
   ]
  },
  {
   "cell_type": "code",
   "execution_count": 1,
   "id": "6a9815e7",
   "metadata": {},
   "outputs": [],
   "source": [
    "import pandas as pd\n",
    "from bs4 import BeautifulSoup\n",
    "from requests_html import HTMLSession\n",
    "from time import sleep\n",
    "from glob import glob\n",
    "import pyarrow as pa\n",
    "import requests\n",
    "import math\n",
    "import json\n",
    "\n",
    "import collections\n",
    "import itertools\n",
    "import time\n",
    "from pandas_profiling import ProfileReport\n",
    "import csv\n",
    "import html\n",
    "\n",
    "import urllib3\n",
    "urllib3.disable_warnings(urllib3.exceptions.InsecureRequestWarning)\n",
    "inicio_geral = time.time()"
   ]
  },
  {
   "cell_type": "code",
   "execution_count": 2,
   "id": "765ab33a",
   "metadata": {},
   "outputs": [],
   "source": [
    "url_museus = [\"https://museudodiamante.acervos.museus.gov.br/acervo-museologico\", \n",
    "              \"https://museudoouro.acervos.museus.gov.br/acervo/\", \n",
    "              \"http://museuvictormeirelles.acervos.museus.gov.br/mvm-acervo/\", \n",
    "              \"https://museuregionalcasadosottoni.acervos.museus.gov.br/acervo-museologico/\", \n",
    "              \"https://museudasmissoes.acervos.museus.gov.br/acervo-museologico/\", \n",
    "              \"https://museusibramgoias.acervos.museus.gov.br/museu-das-bandeiras/\", \n",
    "              \"https://museusibramgoias.acervos.museus.gov.br/museu-casa-da-princesa/\", \n",
    "              \"https://museuvillalobos.acervos.museus.gov.br/fotografias/\", \n",
    "              \"https://museucasabenjaminconstant.acervos.museus.gov.br/acervo-museologico/\", \n",
    "              \"https://museudainconfidencia.acervos.museus.gov.br/acervo-museologico/\", \n",
    "              \"https://museuregionaldesaojoaodelrei.acervos.museus.gov.br/acervo_museologico/\", \n",
    "              \"https://museusibramgoias.acervos.museus.gov.br/museu-casa-da-boa-morte/\", \n",
    "              \"https://museucasadahera.acervos.museus.gov.br/acervo-museologico/\", \n",
    "              \"https://museucasahistoricadealcantara.acervos.museus.gov.br/objetos/\", \n",
    "              \"https://museudeartereligiosaetradicional.acervos.museus.gov.br/acervo-museologico/\", \n",
    "              \"https://museudaabolicao.acervos.museus.gov.br/acervo_museologico/\", \n",
    "              \"https://museuregionaldecaete.acervos.museus.gov.br/acervo/\", \n",
    "              \"https://museusolarmonjardim.acervos.museus.gov.br/acervo/\",\n",
    "              \"https://mhn.acervos.museus.gov.br/moedas-de-ouro/\",\n",
    "              \"https://museucasadahera.acervos.museus.gov.br/indumentaria/\"]\n",
    "\n",
    "# Coleções com exportação problemáticos\n",
    "# \"https://museudearqueologiadeitaipu.museus.gov.br/museu-itaipu/\",\n",
    "#               \"https://mhn.acervos.museus.gov.br/reserva-tecnica/\"\n",
    "\n",
    "# Acervo arquivísitico\n",
    "# \"http://museusolarmonjardim.acervos.museus.gov.br/documentos-historicos/\","
   ]
  },
  {
   "cell_type": "code",
   "execution_count": 3,
   "id": "1c900fa5",
   "metadata": {},
   "outputs": [],
   "source": [
    "# Raspagem exportação em csv\n",
    "def construcao_url(url_museu, id_colecao):\n",
    "    # Pegar url base do museu\n",
    "    url_clean = url_museu.split(\"/\")[2]\n",
    "    \n",
    "    # Pegar nome do acervo\n",
    "    nome = url_clean.split(\".\")[0]\n",
    "    acervo = url_museu.split(\"/\")[3]\n",
    "    nome_unico = nome + \" - \" + acervo\n",
    "    nome_unico = nome_unico.replace(\" \", \"_\")\n",
    "    \n",
    "    # Construtir url de raspagem\n",
    "    url_raspagem = \"https://\" + url_clean + \"/wp-json/tainacan/v2/collection/\" + str(id_colecao) + \"/items/?perpage=96&order=ASC&orderby=date&exposer=csv&mapper=inbcm-ibram&paged=\"\n",
    "    url_matadados = \"http://\" + url_clean + \"/wp-json/tainacan/v2/collections/\" + str(id_colecao)\n",
    "    api_dados_tainacam = url_raspagem = \"https://\" + url_clean + \"/wp-json/tainacan/v2/collection/\" + str(id_colecao) + \"/items/?perpage=1&order=ASC&orderby=date&paged=1\"\n",
    "    \n",
    "    return url_raspagem, nome_unico, url_matadados, api_dados_tainacam"
   ]
  },
  {
   "cell_type": "code",
   "execution_count": 4,
   "id": "d32b193a",
   "metadata": {},
   "outputs": [],
   "source": [
    "# url_raspagem, nome_unico, url_matadados, api_dados_tainacam = construcao_url(\"https://museudasmissoes.acervos.museus.gov.br/acervo-museologico/\", \"6409\")\n",
    "# #print(api_dados_tainacam)\n"
   ]
  },
  {
   "cell_type": "code",
   "execution_count": 38,
   "id": "191cf4e3",
   "metadata": {
    "scrolled": true
   },
   "outputs": [
    {
     "name": "stdout",
     "output_type": "stream",
     "text": [
      "https://museudodiamante.acervos.museus.gov.br/acervo-museologico\n",
      "https://museudodiamante.acervos.museus.gov.br/wp-json/tainacan/v2/collection/11603/items/?perpage=1&order=ASC&orderby=date&paged=1\n",
      "titulo-3\n",
      "numero-de-registro-3\n",
      "title-3\n",
      "classe-3\n",
      "classificacao\n",
      "tnc_tax_42\n",
      "local-de-producao\n",
      "local-producao\n",
      "tnc_tax_18430\n",
      "data-de-producao\n",
      "data-producao\n",
      "tnc_tax_18432\n",
      "acervo-3\n",
      "procedencia-3\n",
      "autor\n",
      "autor\n",
      "tnc_tax_18298\n",
      "material-tecnica-3\n",
      "material-tecnica\n",
      "tnc_tax_11646\n",
      "termos-de-indexacao-2\n",
      "altura-cm-2\n",
      "largura-cm\n",
      "situacao-2\n",
      "comprimento-cm\n",
      "profundidadecm\n",
      "diametro-cm\n",
      "circunferenciacm\n",
      "espessuracm\n",
      "peso\n",
      "description-3\n",
      "data-da-foto-2\n",
      "marcas-inscricoes-legendas-3\n",
      "dados-historicos-2\n",
      "referencias-bibliograficas-arquivisticas-3\n",
      "condicoes-de-reproducao-2\n",
      "midias-relacionadas\n"
     ]
    },
    {
     "ename": "NameError",
     "evalue": "name 'url_museu' is not defined",
     "output_type": "error",
     "traceback": [
      "\u001b[1;31m---------------------------------------------------------------------------\u001b[0m",
      "\u001b[1;31mNameError\u001b[0m                                 Traceback (most recent call last)",
      "\u001b[1;32m<ipython-input-38-193304834505>\u001b[0m in \u001b[0;36m<module>\u001b[1;34m\u001b[0m\n\u001b[0;32m     68\u001b[0m \u001b[1;33m\u001b[0m\u001b[0m\n\u001b[0;32m     69\u001b[0m     \u001b[0mnome_acervo\u001b[0m \u001b[1;33m=\u001b[0m  \u001b[0mmatadata_json\u001b[0m\u001b[1;33m[\u001b[0m\u001b[1;34m'name'\u001b[0m\u001b[1;33m]\u001b[0m\u001b[1;33m\u001b[0m\u001b[1;33m\u001b[0m\u001b[0m\n\u001b[1;32m---> 70\u001b[1;33m     \u001b[0mprint\u001b[0m\u001b[1;33m(\u001b[0m\u001b[0murl_museu\u001b[0m\u001b[1;33m,\u001b[0m \u001b[0mtamanho_acervo\u001b[0m\u001b[1;33m,\u001b[0m \u001b[0mnome_acervo\u001b[0m\u001b[1;33m)\u001b[0m\u001b[1;33m\u001b[0m\u001b[1;33m\u001b[0m\u001b[0m\n\u001b[0m",
      "\u001b[1;31mNameError\u001b[0m: name 'url_museu' is not defined"
     ]
    }
   ],
   "source": [
    "# Teste\n",
    "\n",
    "# headers = {\n",
    "#   'sec-ch-ua': '\" Not A;Brand\";v=\"99\", \"Chromium\";v=\"100\", \"Opera GX\";v=\"86\"',\n",
    "#   'sec-ch-ua-mobile': '?0',\n",
    "#   'sec-ch-ua-platform': '\"Windows\"',\n",
    "#   'Upgrade-Insecure-Requests': '1',\n",
    "#   'User-Agent': 'Mozilla/5.0 (Windows NT 10.0; Win64; x64) AppleWebKit/537.36 (KHTML, like Gecko) Chrome/100.0.4896.127 Safari/537.36 OPR/86.0.4363.64',\n",
    "#   'Accept': 'text/html,application/xhtml+xml,application/xml;q=0.9,image/avif,image/webp,image/apng,*/*;q=0.8,application/signed-exchange;v=b3;q=0.9',\n",
    "# }\n",
    "\n",
    "# base_campos_controlados = pd.DataFrame()\n",
    "\n",
    "# for url in url_museus:\n",
    "#     print(url)\n",
    "#     r = requests.get(url, timeout=5000, verify=False, headers=headers)\n",
    "#     soup = BeautifulSoup(r.text, 'html.parser')\n",
    "    \n",
    "#     # Captar ID da coleção\n",
    "#     #try:\n",
    "#     col_id = soup.find(attrs={\"id\" : \"tainacan-items-page\"})\n",
    "#     collection_id = col_id['collection-id']\n",
    "    \n",
    "#     nome_acervo = collection_id\n",
    "#     url_raspagem, nome_unico, url_matadados, api_dados_tainacam = construcao_url(url, collection_id)\n",
    "\n",
    "#     print(api_dados_tainacam)\n",
    "#     vocabulario = requests.get(api_dados_tainacam)\n",
    "#     binary = vocabulario.content\n",
    "#     data = json.loads(binary)\n",
    "#     register = data['items'][0]['metadata']\n",
    "\n",
    "#     campos_controlados = []\n",
    "\n",
    "#     # Listagem de campo inbcm que usam taxonomia\n",
    "#     for key, value in register.items():\n",
    "#         print(key)\n",
    "#         if 'inbcm-ibram' in register[key]['mapping']:\n",
    "#             try:\n",
    "#                 try:\n",
    "#                     if 'taxonomy' in register[key]['value'][0]:\n",
    "#                         campo = register[key]['mapping'][\"inbcm-ibram\"]\n",
    "#                         campos_controlados.append(campo)\n",
    "#                         print(register[key]['mapping'][\"inbcm-ibram\"])\n",
    "#                         print(register[key]['value'][0][\"taxonomy\"])\n",
    "#                         del campo\n",
    "#                 except:\n",
    "#                     if 'taxonomy' in register[key]['value']:\n",
    "#                         campo = register[key]['mapping'][\"inbcm-ibram\"]\n",
    "#                         campos_controlados.append(campo)\n",
    "#                         print(register[key]['mapping'][\"inbcm-ibram\"])\n",
    "#                         print(register[key]['value'][\"taxonomy\"])\n",
    "#                         del campo\n",
    "#             except:\n",
    "#                 pass\n",
    "            \n",
    "    \n",
    "#     colecoes_campos_controlados = pd.DataFrame(campos_controlados, columns=[\"Campos_Controlados\"])\n",
    "#     colecoes_campos_controlados[\"Colecao\"] = nome_unico\n",
    "#     frames = [colecoes_campos_controlados, base_campos_controlados]\n",
    "#     base_campos_controlados = pd.concat(frames)\n",
    "#     del colecoes_campos_controlados\n",
    "\n",
    "\n",
    "\n",
    "#     matadata = requests.get(url_matadados)\n",
    "#     matadata_json = matadata.json()\n",
    "#     tamanho_acervo =  matadata_json['total_items']['publish']\n",
    "#     tamanho_acervo = int(tamanho_acervo)\n",
    "\n",
    "#     nome_acervo =  matadata_json['name']\n",
    "#     print(url_museu, tamanho_acervo, nome_acervo)"
   ]
  },
  {
   "cell_type": "code",
   "execution_count": 4,
   "id": "e5e345ff",
   "metadata": {},
   "outputs": [],
   "source": [
    "# Raspagem exportação em HTML (caso raspagem dos CSV dê erro)\n",
    "def construcao_url_html(url_museu, id_colecao):\n",
    "    # Pegar url base do museu\n",
    "    url_clean = url_museu.split(\"/\")[2]\n",
    "    \n",
    "    # Pegar nome do acervo\n",
    "    nome = url_clean.split(\".\")[0]\n",
    "    acervo = url_museu.split(\"/\")[3]\n",
    "    nome_unico = nome + \" - \" + acervo\n",
    "    nome_unico = nome_unico.replace(\" \", \"_\")\n",
    "    \n",
    "    # Construtir url de raspagem\n",
    "    url_raspagem = \"http://\" + url_clean + \"/wp-json/tainacan/v2/collection/\" + str(id_colecao) + \"/items/?perpage=96&order=ASC&orderby=date&exposer=html&paged=\"\n",
    "    \n",
    "    return url_raspagem, nome_unico"
   ]
  },
  {
   "cell_type": "code",
   "execution_count": 6,
   "id": "42e34c94",
   "metadata": {
    "scrolled": true
   },
   "outputs": [
    {
     "name": "stdout",
     "output_type": "stream",
     "text": [
      "\n",
      " https://museudodiamante.acervos.museus.gov.br/acervo-museologico\n",
      "titulo-3\n",
      "numero-de-registro-3\n",
      "title-3\n",
      "classe-3\n",
      "classificacao\n",
      "tnc_tax_42\n",
      "local-de-producao\n",
      "local-producao\n",
      "tnc_tax_18430\n",
      "data-de-producao\n",
      "data-producao\n",
      "tnc_tax_18432\n",
      "acervo-3\n",
      "procedencia-3\n",
      "autor\n",
      "autor\n",
      "tnc_tax_18298\n",
      "material-tecnica-3\n",
      "material-tecnica\n",
      "tnc_tax_11646\n",
      "termos-de-indexacao-2\n",
      "altura-cm-2\n",
      "largura-cm\n",
      "situacao-2\n",
      "comprimento-cm\n",
      "profundidadecm\n",
      "diametro-cm\n",
      "circunferenciacm\n",
      "espessuracm\n",
      "peso\n",
      "description-3\n",
      "data-da-foto-2\n",
      "marcas-inscricoes-legendas-3\n",
      "dados-historicos-2\n",
      "referencias-bibliograficas-arquivisticas-3\n",
      "condicoes-de-reproducao-2\n",
      "midias-relacionadas\n",
      "895 itens.  10 páginas.\n",
      "\n",
      " https://museudoouro.acervos.museus.gov.br/acervo/\n",
      "numero-de-registro-3\n",
      "title-4\n",
      "titulo\n",
      "classificacao-3\n",
      "classificacao\n",
      "tnc_tax_40\n",
      "local-de-producao-2\n",
      "local-producao\n",
      "tnc_tax_1865\n",
      "data-de-producao\n",
      "data-producao\n",
      "tnc_tax_1869\n",
      "autor\n",
      "autor\n",
      "tnc_tax_1873\n",
      "conjunto-com-numero\n",
      "material-tecnica-3\n",
      "material-tecnica\n",
      "tnc_tax_1875\n",
      "palavras-chave-2\n",
      "fotografo-3\n",
      "data-da-fotografia-3\n",
      "esfera-do-protecao-legal\n",
      "tipo-de-tombamento-3\n",
      "marcas-inscricoes-legendas-3\n",
      "dimensoes-3\n",
      "description-4\n",
      "caracteristicas-estilisticas-3\n",
      "caracteristicas-iconograficas-ornamentais-3\n",
      "dados-historicos-3\n",
      "referencias-bibliograficas\n",
      "condicoes-de-reproducao\n",
      "dominio-publico\n",
      "midias-relacionadas\n",
      "135 itens.  2 páginas.\n",
      "\n",
      " http://museuvictormeirelles.acervos.museus.gov.br/mvm-acervo/\n",
      "taxonomia\n",
      "classificacao\n",
      "tnc_tax_40453\n",
      "colecao-5\n",
      "objeto-2\n",
      "denominacao\n",
      "tnc_tax_9653\n",
      "title-9\n",
      "autor-relacionamento\n",
      "pais-2\n",
      "local-producao\n",
      "tnc_tax_9661\n",
      "estado-2\n",
      "cidade-2\n",
      "data-6\n",
      "tecnica-5\n",
      "material-tecnica\n",
      "tnc_tax_9663\n",
      "dimensoes-6\n",
      "duracao-2\n",
      "inscricoes-e-marcas-5\n",
      "estado-de-conservacao-4\n",
      "estado-conservacao\n",
      "tnc_tax_9665\n",
      "notas-estado-de-conservacao-4\n",
      "fonte-de-aquisicao-2\n",
      "exposicoes-4\n",
      "bibliografia-4\n",
      "description-9\n",
      "descricao-de-conteudo-3\n",
      "estilos-temas-3\n",
      "exposicoes-5\n",
      "dominio-publico\n",
      "midias-relacionadas\n",
      "condicoes-de-reproducao\n",
      "237 itens.  3 páginas.\n",
      "\n",
      " https://museuregionalcasadosottoni.acervos.museus.gov.br/acervo-museologico/\n",
      "numero-de-registro-3\n",
      "title-14\n",
      "denominacao\n",
      "autoria-9\n",
      "autor\n",
      "tnc_tax_31517\n",
      "material-9\n",
      "material-tecnica\n",
      "tnc_tax_29\n",
      "tecnica-9\n",
      "origem-9\n",
      "local-producao\n",
      "tnc_tax_2184\n",
      "ano-de-producao-2\n",
      "epoca-9\n",
      "data-producao\n",
      "tnc_tax_25\n",
      "classificacao-2\n",
      "classificacao\n",
      "tnc_tax_12137\n",
      "altura-cm-2\n",
      "comprimento-cm\n",
      "largura-cm-2\n",
      "espessura-cm-2\n",
      "profundidade-cm-3\n",
      "diametro-cm-3\n",
      "circunferencia-cm-3\n",
      "description-15\n",
      "condicoes-de-reproducao-4\n",
      "caracteristicas-tecnicas\n",
      "caracteristicas-estilisticas\n",
      "caracteristicas-iconograficas-ornamentais\n",
      "licencas-creative-commons-2\n",
      "dados-historicos\n",
      "referencias-bibliograficas-arquivisticas\n",
      "termos-de-indexacao\n",
      "conjunto-com-numeros\n",
      "marcas-inscricoes-legendas\n",
      "epoca-10\n",
      "463 itens.  5 páginas.\n",
      "\n",
      " https://museudasmissoes.acervos.museus.gov.br/acervo-museologico/\n",
      "title-6\n",
      "numero-de-registro-3\n",
      "titulo-em-ingles-3\n",
      "denominacao\n",
      "titulo-2\n",
      "autor\n",
      "autor\n",
      "tnc_tax_9832\n",
      "colecao-3\n",
      "classificacao\n",
      "classificacao\n",
      "tnc_tax_7550\n",
      "material-tecnica-4\n",
      "material-tecnica\n",
      "tnc_tax_9822\n",
      "marcada-3\n",
      "local-de-producao\n",
      "data-de-producao\n",
      "data-producao\n",
      "tnc_tax_9820\n",
      "altura-4\n",
      "largura-4\n",
      "diametro-4\n",
      "profundidade-4\n",
      "peso-4\n",
      "temas-3\n",
      "estilo-3\n",
      "movimento-3\n",
      "escola-grupo-cultural-3\n",
      "exposicoes-3\n",
      "description-6\n",
      "procedencia-2\n",
      "desdobramento-numero\n",
      "referencias-bibliograficas-3\n",
      "dominio-publico\n",
      "condicoes-de-reproducao\n",
      "90 itens.  1 páginas.\n",
      "\n",
      " https://museusibramgoias.acervos.museus.gov.br/museu-das-bandeiras/\n",
      "numero-de-registro\n",
      "outros-numeros\n",
      "situacao\n",
      "title\n",
      "titulo\n",
      "autor\n",
      "autor\n",
      "tnc_tax_563\n",
      "classificacao\n",
      "classificacao\n",
      "tnc_tax_567\n",
      "description\n",
      "altura\n",
      "largura\n",
      "comprimento\n",
      "profundidade\n",
      "diametro\n",
      "peso\n",
      "material\n",
      "material-tecnica\n",
      "tnc_tax_659\n",
      "tecnica\n",
      "marcas-inscricoes\n",
      "local-de-producao\n",
      "local-producao\n",
      "tnc_tax_669\n",
      "data-de-producao\n",
      "data-producao\n",
      "tnc_tax_673\n",
      "localizacao\n",
      "modo-de-aquisicao\n",
      "data-de-aquisicao\n",
      "procedencia\n",
      "fonte-de-aquisicao\n",
      "tema\n",
      "exposicoes\n",
      "historico-observacao\n",
      "acervo\n",
      "categoria\n",
      "colecao\n",
      "codigo-thesaurus\n",
      "destaque-no-acervo\n",
      "415 itens.  5 páginas.\n",
      "\n",
      " https://museusibramgoias.acervos.museus.gov.br/museu-casa-da-princesa/\n",
      "numero-de-registro\n",
      "outros-numeros\n",
      "situacao\n",
      "title-2\n",
      "titulo\n",
      "autor\n",
      "autor\n",
      "tnc_tax_563\n",
      "classificacao\n",
      "classificacao\n",
      "tnc_tax_567\n",
      "description-2\n",
      "altura\n",
      "largura\n",
      "comprimento\n",
      "profundidade\n",
      "diametro\n",
      "peso\n",
      "material\n",
      "material-tecnica\n",
      "tnc_tax_659\n",
      "tecnica\n",
      "marcas-inscricoes\n",
      "local-de-producao\n",
      "local-producao\n",
      "tnc_tax_669\n",
      "data-de-producao\n",
      "data-producao\n",
      "tnc_tax_673\n",
      "localizacao\n",
      "modo-de-aquisicao\n",
      "data-de-aquisicao\n",
      "procedencia\n",
      "fonte-da-informacao\n",
      "historico-observacao\n",
      "codigo-thesaurus-2\n",
      "\n",
      " https://museuvillalobos.acervos.museus.gov.br/fotografias/\n",
      "\n",
      " https://museucasabenjaminconstant.acervos.museus.gov.br/acervo-museologico/\n",
      "\n",
      " https://museudainconfidencia.acervos.museus.gov.br/acervo-museologico/\n",
      "numero-de-registro-novo\n",
      "title\n",
      "titulo\n",
      "autor-com-atribuicao\n",
      "autor\n",
      "tnc_tax_60\n",
      "fabricante\n",
      "inscricoes\n",
      "classificacao\n",
      "classificacao\n",
      "tnc_tax_62\n",
      "estilo\n",
      "altura-cm\n",
      "largura-cm\n",
      "profundidade-cm\n",
      "comprimento-cm\n",
      "numerico\n",
      "diametro-cm\n",
      "peso-kg\n",
      "material\n",
      "material-tecnica\n",
      "tnc_tax_175\n",
      "tecnica\n",
      "temas\n",
      "estado-de-conservacao\n",
      "local-de-producao\n",
      "local-producao\n",
      "tnc_tax_192\n",
      "complemento-local-de-producao\n",
      "data-de-producao\n",
      "data-producao\n",
      "tnc_tax_204\n",
      "informacoes-sobre-a-fotografia\n",
      "4622 itens.  49 páginas.\n",
      "\n",
      " https://museuregionaldesaojoaodelrei.acervos.museus.gov.br/acervo_museologico/\n",
      "numero-de-registro\n",
      "title-3\n",
      "titulo-3\n",
      "autor-2\n",
      "autor\n",
      "tnc_tax_32376\n",
      "classificacao-2\n",
      "classificacao\n",
      "tnc_tax_32378\n",
      "description-3\n",
      "altura-cm\n",
      "largura-cm\n",
      "comprimento-cm\n",
      "profundidade-cm\n",
      "espessura-cm\n",
      "diametro-cm\n",
      "peso\n",
      "material-3\n",
      "material-tecnica\n",
      "tnc_tax_32380\n",
      "tecnica-3\n",
      "marcas-inscricoes\n",
      "local-de-producao-2\n",
      "local-producao\n",
      "tnc_tax_32384\n",
      "data-de-producao-2\n",
      "data-producao\n",
      "tnc_tax_32388\n",
      "assuntos\n",
      "conjunto-com-n\n",
      "dados-historicos-4\n",
      "caracteristicas-iconograficas-ornamentais-4\n",
      "caracteristicas-estilisticas-4\n",
      "caracteristicas-tecnicas-4\n",
      "referencias-bibliograficas-arquivisticas-4\n",
      "documentacao-fotografica-4\n",
      "328 itens.  4 páginas.\n",
      "\n",
      " https://museusibramgoias.acervos.museus.gov.br/museu-casa-da-boa-morte/\n",
      "numero-de-registro\n",
      "outros-numeros\n",
      "situacao\n",
      "title-3\n",
      "denominacao\n",
      "autor\n",
      "autor\n",
      "tnc_tax_563\n",
      "classificacao\n",
      "classificacao\n",
      "tnc_tax_567\n",
      "description-3\n",
      "altura\n",
      "largura\n",
      "comprimento\n",
      "profundidade\n",
      "diametro\n",
      "peso\n",
      "material\n",
      "material-tecnica\n",
      "tnc_tax_659\n",
      "tecnica\n",
      "marcas-inscricoes\n",
      "local-de-producao\n",
      "local-producao\n",
      "tnc_tax_669\n",
      "data-de-producao\n",
      "data-producao\n",
      "tnc_tax_673\n",
      "localizacao\n",
      "modo-de-aquisicao\n",
      "data-de-aquisicao\n",
      "procedencia\n",
      "historico-observacao\n",
      "790 itens.  9 páginas.\n",
      "\n",
      " https://museucasadahera.acervos.museus.gov.br/acervo-museologico/\n",
      "numero-tainacan\n",
      "revisar-numero-tainacan\n",
      "no-de-tombo\n",
      "title\n",
      "titulo\n",
      "autor-fabricante\n",
      "autor\n",
      "tnc_tax_55\n",
      "description\n",
      "materiais\n",
      "material-tecnica\n",
      "tnc_tax_39896\n",
      "tecnica\n",
      "altura-total-item-acessorios\n",
      "1-altura-item-acessorios\n",
      "largura-item-acessorios\n",
      "1-largura-item-acessorios\n",
      "comprimento-item-acessorios\n",
      "diametro-item-acessorios\n",
      "profundidade-item-acessorios\n",
      "circunferencia-item-acessorios\n",
      "classificacao\n",
      "classificacao\n",
      "tnc_tax_33\n",
      "epoca-2\n",
      "data-de-producao-2\n",
      "data-producao\n",
      "tnc_tax_90499\n",
      "local-de-producao\n",
      "local-producao\n",
      "tnc_tax_39732\n",
      "categoria\n",
      "especie\n",
      "inscricoes\n",
      "partes-integrantes\n",
      "etiqueta\n",
      "fontes\n",
      "condicoes-de-reproducao\n",
      "1220 itens.  13 páginas.\n",
      "\n",
      " https://museucasahistoricadealcantara.acervos.museus.gov.br/objetos/\n",
      "numero_mcha-2\n",
      "title-4\n",
      "titulo-3\n",
      "autor-4\n",
      "fabrica_oficina-2\n",
      "classificacao\n",
      "classificacao\n",
      "tnc_tax_85131\n",
      "altrura_espessura-2\n",
      "description-4\n",
      "largura_diametro-2\n",
      "comprimento_profundi-2\n",
      "peso-g-3\n",
      "materiais_tecnicas-2\n",
      "material-tecnica\n",
      "tnc_tax_78791\n",
      "tecnicas-2\n",
      "marcas_inscricoes-2\n",
      "local-de-producao-3\n",
      "local-producao\n",
      "tnc_tax_83518\n",
      "seculo-2\n",
      "ano_data-2\n",
      "data-producao\n",
      "tnc_tax_14404\n",
      "condicoes-de-reproducao-3\n",
      "historico-2\n",
      "usos-2\n",
      "funcao-2\n",
      "bibliografia\n",
      "631 itens.  7 páginas.\n",
      "\n",
      " https://museudeartereligiosaetradicional.acervos.museus.gov.br/acervo-museologico/\n",
      "no-de-registro-iventario-2\n",
      "denominacao\n",
      "titulo-2\n",
      "autor-2\n",
      "ano-de-producao\n",
      "seculo-de-pruducao\n",
      "dimensoes-cm\n",
      "material\n",
      "material-tecnica\n",
      "tnc_tax_3640\n",
      "tecnica\n",
      "classificacao-2\n",
      "classificacao\n",
      "tnc_tax_888\n",
      "description-2\n",
      "local-de-producao\n",
      "condicoes-de-reproducao\n",
      "local-de-producao-2\n",
      "\n",
      " https://museudaabolicao.acervos.museus.gov.br/acervo_museologico/\n",
      "\n",
      " https://museuregionaldecaete.acervos.museus.gov.br/acervo/\n",
      "\n",
      " https://museusolarmonjardim.acervos.museus.gov.br/acervo/\n",
      "numero-de-registro\n",
      "denominacao\n",
      "denominacao\n",
      "tnc_tax_131479\n",
      "titulo-3\n",
      "autoria-3\n",
      "autor\n",
      "tnc_tax_111112\n",
      "description-10\n",
      "data-de-producao-2\n",
      "origem-3\n",
      "local-producao\n",
      "tnc_tax_111057\n",
      "classificacao-thesaurus\n",
      "classificacao\n",
      "tnc_tax_127818\n",
      "material-tecnica-5\n",
      "material-tecnica\n",
      "tnc_tax_131469\n",
      "altura-cm\n",
      "altura-da-cruz-cm\n",
      "altura-do-cristo-cm\n",
      "altura-da-cabeca-cm\n",
      "outras-medidas-de-altura-cm\n",
      "lagura-cm\n",
      "largura-da-cruz-cm\n",
      "largura-do-cristo-cm\n",
      "largura-da-cabeca-cm\n",
      "outras-medidas-de-largura-cm\n",
      "profundidade-cm\n",
      "profundidade-da-cruz-cm\n",
      "profundidade-do-cristo-cm\n",
      "profundidade-da-cabeca-cm\n",
      "outras-medidas-de-profundidade-cm\n",
      "caracteristicas-estilisticas-3\n",
      "caracteristicas-tecnicas-3\n",
      "caracteristicas-iconograficas-ornamentais-3\n",
      "marcas-inscricoes-legendas-3\n",
      "dados-historicos-3\n",
      "referencias-bibliograficas-arquivisticas-3\n",
      "fotografico-3\n"
     ]
    },
    {
     "name": "stdout",
     "output_type": "stream",
     "text": [
      "77 itens.  1 páginas.\n",
      "\n",
      " https://mhn.acervos.museus.gov.br/moedas-de-ouro/\n",
      "description-24\n",
      "title-24\n",
      "outros-titulos-8\n",
      "numero-de-registro\n",
      "classe-2\n",
      "classificacao\n",
      "tnc_tax_288\n",
      "especie-7\n",
      "pais-3\n",
      "local-de-producao-13\n",
      "local-producao\n",
      "tnc_tax_286366\n",
      "data-de-producao-13\n",
      "data-producao\n",
      "tnc_tax_286372\n",
      "governante-6\n",
      "material\n",
      "material-tecnica\n",
      "tnc_tax_85144\n",
      "tecnica-11\n",
      "estado-de-conservacao\n",
      "estado-conservacao\n",
      "tnc_tax_383\n",
      "diametro-mm-8\n",
      "peso-g-13\n",
      "exposicao-3\n",
      "referencias\n",
      "exibicoes-2\n",
      "modo-de-aquisicao\n",
      "condicoes-de-reproducao-2\n",
      "1215 itens.  13 páginas.\n",
      "\n",
      " https://museucasadahera.acervos.museus.gov.br/indumentaria/\n",
      "no-de-tombo\n",
      "numero-tainacan\n",
      "revisar-numero-tainacan-2\n",
      "title-2\n",
      "titulo\n",
      "autor-fabricante\n",
      "autor\n",
      "tnc_tax_55\n",
      "description-2\n",
      "materiais\n",
      "material-tecnica\n",
      "tnc_tax_39896\n",
      "tecnica\n",
      "classificacao\n",
      "classificacao\n",
      "tnc_tax_33\n",
      "epoca-2\n",
      "data-de-producao-2\n",
      "data-producao\n",
      "tnc_tax_90499\n",
      "altura-frente\n",
      "altura-costas\n",
      "circunferencia-cintura\n",
      "circunferencia-barra\n",
      "circunferencia-punho-direito-e-esquerdo\n",
      "circunferencia-punho-esquerdo\n",
      "comprimento-manga-direita-e-esquerda\n",
      "comprimento-manga-esquerda\n",
      "pescoco\n",
      "ombro\n",
      "altura-salto-direito-e-esquerdo\n",
      "altura-salto-esquerdo\n",
      "largura-salto-direito-e-esquerdo\n",
      "largura-salto-esquerdo\n",
      "circunferencia-cabeca\n",
      "largura-da-copa-aba\n",
      "partes-integrantes\n",
      "local-de-producao\n",
      "local-producao\n",
      "tnc_tax_39732\n",
      "categoria\n",
      "especie\n",
      "inscricoes\n",
      "etiqueta\n",
      "fontes\n",
      "condicoes-de-reproducao\n",
      "numero-tainacan-3\n",
      "numero-tainacan-2\n",
      "67 itens.  1 páginas.\n"
     ]
    }
   ],
   "source": [
    "total_registros = 0\n",
    "acervos_que_falharam = []\n",
    "\n",
    "headers = {\n",
    "  'sec-ch-ua': '\" Not A;Brand\";v=\"99\", \"Chromium\";v=\"100\", \"Opera GX\";v=\"86\"',\n",
    "  'sec-ch-ua-mobile': '?0',\n",
    "  'sec-ch-ua-platform': '\"Windows\"',\n",
    "  'Upgrade-Insecure-Requests': '1',\n",
    "  'User-Agent': 'Mozilla/5.0 (Windows NT 10.0; Win64; x64) AppleWebKit/537.36 (KHTML, like Gecko) Chrome/100.0.4896.127 Safari/537.36 OPR/86.0.4363.64',\n",
    "  'Accept': 'text/html,application/xhtml+xml,application/xml;q=0.9,image/avif,image/webp,image/apng,*/*;q=0.8,application/signed-exchange;v=b3;q=0.9',\n",
    "\n",
    "}\n",
    "\n",
    "base_campos_controlados = pd.DataFrame()\n",
    "for url in url_museus:\n",
    "    try:\n",
    "        print(\"\\n\",url)\n",
    "\n",
    "        session = HTMLSession()\n",
    "        r = session.get(url, timeout=5000, verify=False, headers=headers)\n",
    "        soup = BeautifulSoup(r.text, 'html.parser')\n",
    "\n",
    "        # Captar ID da coleção\n",
    "\n",
    "        col_id = soup.find(attrs={\"id\" : \"tainacan-items-page\"})\n",
    "        collection_id = col_id['collection-id']\n",
    "\n",
    "        nome_acervo = collection_id\n",
    "        url_raspagem, nome_unico, url_matadados, api_dados_tainacam = construcao_url(url, collection_id)\n",
    "\n",
    "\n",
    "        vocabulario = requests.get(api_dados_tainacam)\n",
    "        binary = vocabulario.content\n",
    "        data = json.loads(binary)\n",
    "        register = data['items'][0]['metadata']\n",
    "\n",
    "        campos_controlados = []\n",
    "        # Listagem de campo inbcm que usam taxonomia\n",
    "        for key, value in register.items():\n",
    "            print(key)\n",
    "            if 'inbcm-ibram' in register[key]['mapping']:\n",
    "                try:\n",
    "                    try:\n",
    "                        if 'taxonomy' in register[key]['value'][0]:\n",
    "                            campo = register[key]['mapping'][\"inbcm-ibram\"]\n",
    "                            campos_controlados.append(campo)\n",
    "                            print(register[key]['mapping'][\"inbcm-ibram\"])\n",
    "                            print(register[key]['value'][0][\"taxonomy\"])\n",
    "                            del campo\n",
    "                    except:\n",
    "                        if 'taxonomy' in register[key]['value']:\n",
    "                            campo = register[key]['mapping'][\"inbcm-ibram\"]\n",
    "                            campos_controlados.append(campo)\n",
    "                            print(register[key]['mapping'][\"inbcm-ibram\"])\n",
    "                            print(register[key]['value'][\"taxonomy\"])\n",
    "                            del campo\n",
    "                except:\n",
    "                    pass\n",
    "\n",
    "\n",
    "        colecoes_campos_controlados = pd.DataFrame(campos_controlados, columns=[\"Campos_Controlados\"])\n",
    "        colecoes_campos_controlados[\"Colecao\"] = nome_unico\n",
    "        frames = [colecoes_campos_controlados, base_campos_controlados]\n",
    "        base_campos_controlados = pd.concat(frames)\n",
    "        del colecoes_campos_controlados\n",
    "\n",
    "\n",
    "        # Captar quantidade de iten do acervo \n",
    "        try:\n",
    "            matadata = requests.get(url_matadados)\n",
    "            matadata_json = matadata.json()\n",
    "            tamanho_acervo =  matadata_json['total_items']['publish']\n",
    "            tamanho_acervo = int(tamanho_acervo)\n",
    "            qtde_paginas = tamanho_acervo / 96\n",
    "            qtde_paginas = math.ceil(qtde_paginas)\n",
    "            print(tamanho_acervo, \"itens. \", qtde_paginas, \"páginas.\")\n",
    "        except:\n",
    "            tamanho_acervo = -1\n",
    "            qtde_paginas = -1\n",
    "\n",
    "\n",
    "\n",
    "        #print(\"Iniciou a raspagem do: \" + str(nome_unico) + \" (\" + collection_id + \")\")\n",
    "\n",
    "        check = True\n",
    "        contador = 1\n",
    "        error = 0\n",
    "\n",
    "        while check == True:\n",
    "            url_atual = url_raspagem + str(contador)\n",
    "            #print(url_atual)\n",
    "\n",
    "            if contador == 1:\n",
    "                try:\n",
    "                    df_base = pd.read_csv(url_atual)\n",
    "                except:\n",
    "                    acervos_que_falharam.append(url)              \n",
    "                    error = 1\n",
    "                    check = False\n",
    "                    break\n",
    "\n",
    "\n",
    "            else:\n",
    "                try:\n",
    "                    df_temp = pd.read_csv(url_atual)\n",
    "                    df_base = df_base.append(df_temp)\n",
    "                    #print(\"Pg: \" + str(contador), \" com total de \" + str(df_base.shape[0]) + \" registros.\")\n",
    "\n",
    "                except:\n",
    "                    check = False\n",
    "                    break\n",
    "\n",
    "            contador = contador + 1\n",
    "            sleep(5)\n",
    "\n",
    "        if error == 0:\n",
    "            caminho = \"./Acervos dos museus/\"+ str(nome_unico) + \".csv\"\n",
    "\n",
    "            df_base[\"ACERVO\"] = nome_unico\n",
    "            df_base[\"URL\"] = url_raspagem\n",
    "            df_base[\"TAINACAN_COLECTION_ID\"] = collection_id\n",
    "\n",
    "            tamanho_baixado = int(df_base.shape[0])\n",
    "\n",
    "            if tamanho_baixado == tamanho_acervo:\n",
    "                print(\"OK - A quantidade de registros do site e baixados são iguais.\")\n",
    "            else:\n",
    "                print(\"A quantidade de registros do site e baixados são diferentes.\")\n",
    "                print(\"Baixados:\", df_base.shape[0])\n",
    "                print(\"Existentes:\", tamanho_acervo)\n",
    "\n",
    "            df_base.to_csv(caminho)\n",
    "            total_registros = total_registros + df_base.shape[0]\n",
    "            print(nome_unico, \"raspado com\", df_base.shape[0], \"registros e com\", contador-1, \"páginas.\")\n",
    "        else:\n",
    "            print(nome_unico, \"falhou na abordagem principal.\")\n",
    "    except:\n",
    "        print(nome_unico, \"falhou!\")\n",
    "        pass\n",
    "base_campos_controlados.to_excel(\"./Campos_com_vocabularios_controlados.xlsx\")"
   ]
  },
  {
   "cell_type": "code",
   "execution_count": 8,
   "id": "2b582878",
   "metadata": {},
   "outputs": [
    {
     "data": {
      "text/plain": [
       "2"
      ]
     },
     "execution_count": 8,
     "metadata": {},
     "output_type": "execute_result"
    }
   ],
   "source": [
    "len(acervos_que_falharam)"
   ]
  },
  {
   "cell_type": "code",
   "execution_count": 57,
   "id": "7434752d",
   "metadata": {},
   "outputs": [
    {
     "name": "stdout",
     "output_type": "stream",
     "text": [
      "OK - Raspagens realizadas com sucesso, todos os acervos foram baixados.\n"
     ]
    }
   ],
   "source": [
    "list_files = glob(\"./Acervos dos museus/*.parquet\")\n",
    "\n",
    "if str(len(list_files)) == str(len(url_museus)):\n",
    "    print(\"OK - Raspagens realizadas com sucesso, todos os acervos foram baixados.\")\n",
    "else:\n",
    "    print(\"Algo parece ter dado errado. Há \" + str(len(list_files)) + \" arquivos CSV no diretório e \" + str(len(url_museus)) + \" acervos listados.\")"
   ]
  },
  {
   "cell_type": "code",
   "execution_count": 63,
   "id": "56745692",
   "metadata": {
    "scrolled": false
   },
   "outputs": [
    {
     "name": "stdout",
     "output_type": "stream",
     "text": [
      "Processando arquivos...\n",
      "./Acervos dos museus\\mhn_-_moedas-de-ouro.csv\n"
     ]
    },
    {
     "data": {
      "text/html": [
       "<div>\n",
       "<style scoped>\n",
       "    .dataframe tbody tr th:only-of-type {\n",
       "        vertical-align: middle;\n",
       "    }\n",
       "\n",
       "    .dataframe tbody tr th {\n",
       "        vertical-align: top;\n",
       "    }\n",
       "\n",
       "    .dataframe thead th {\n",
       "        text-align: right;\n",
       "    }\n",
       "</style>\n",
       "<table border=\"1\" class=\"dataframe\">\n",
       "  <thead>\n",
       "    <tr style=\"text-align: right;\">\n",
       "      <th></th>\n",
       "      <th>Resumo descritivo</th>\n",
       "      <th>Denominação</th>\n",
       "      <th>Número de registro</th>\n",
       "      <th>Classificação</th>\n",
       "      <th>Título</th>\n",
       "      <th>Local de produção</th>\n",
       "      <th>Data de produção</th>\n",
       "      <th>Material/Técnica</th>\n",
       "      <th>Estado de conservação</th>\n",
       "      <th>Dimensões - diâmetro</th>\n",
       "      <th>Dimensões - peso</th>\n",
       "      <th>ACERVO</th>\n",
       "      <th>URL</th>\n",
       "      <th>TAINACAN_COLECTION_ID</th>\n",
       "    </tr>\n",
       "  </thead>\n",
       "  <tbody>\n",
       "    <tr>\n",
       "      <th>0</th>\n",
       "      <td>Anverso: Rei D. Sancho I a cavalo à direita, s...</td>\n",
       "      <td>Moeda</td>\n",
       "      <td>182344</td>\n",
       "      <td>03 Objetos Pecuniários</td>\n",
       "      <td>Morabitino</td>\n",
       "      <td>(?)</td>\n",
       "      <td>1185-1211</td>\n",
       "      <td>Ouro</td>\n",
       "      <td>Bom</td>\n",
       "      <td>28,6</td>\n",
       "      <td>3,68</td>\n",
       "      <td>mhn_-_moedas-de-ouro</td>\n",
       "      <td>https://mhn.acervos.museus.gov.br/wp-json/tain...</td>\n",
       "      <td>286327</td>\n",
       "    </tr>\n",
       "  </tbody>\n",
       "</table>\n",
       "</div>"
      ],
      "text/plain": [
       "                                   Resumo descritivo Denominação  \\\n",
       "0  Anverso: Rei D. Sancho I a cavalo à direita, s...       Moeda   \n",
       "\n",
       "   Número de registro           Classificação      Título Local de produção  \\\n",
       "0              182344  03 Objetos Pecuniários  Morabitino               (?)   \n",
       "\n",
       "  Data de produção Material/Técnica Estado de conservação  \\\n",
       "0        1185-1211             Ouro                   Bom   \n",
       "\n",
       "  Dimensões - diâmetro Dimensões - peso                ACERVO  \\\n",
       "0                 28,6             3,68  mhn_-_moedas-de-ouro   \n",
       "\n",
       "                                                 URL  TAINACAN_COLECTION_ID  \n",
       "0  https://mhn.acervos.museus.gov.br/wp-json/tain...                 286327  "
      ]
     },
     "metadata": {},
     "output_type": "display_data"
    },
    {
     "name": "stdout",
     "output_type": "stream",
     "text": [
      "(1215, 14)\n",
      "./Acervos dos museus\\mhn_-_reserva-tecnica.csv\n"
     ]
    },
    {
     "data": {
      "text/html": [
       "<div>\n",
       "<style scoped>\n",
       "    .dataframe tbody tr th:only-of-type {\n",
       "        vertical-align: middle;\n",
       "    }\n",
       "\n",
       "    .dataframe tbody tr th {\n",
       "        vertical-align: top;\n",
       "    }\n",
       "\n",
       "    .dataframe thead th {\n",
       "        text-align: right;\n",
       "    }\n",
       "</style>\n",
       "<table border=\"1\" class=\"dataframe\">\n",
       "  <thead>\n",
       "    <tr style=\"text-align: right;\">\n",
       "      <th></th>\n",
       "      <th>Número de registro</th>\n",
       "      <th>Outros números</th>\n",
       "      <th>Denominação</th>\n",
       "      <th>Resumo descritivo</th>\n",
       "      <th>Título</th>\n",
       "      <th>Autor</th>\n",
       "      <th>Material/Técnica</th>\n",
       "      <th>Local de produção</th>\n",
       "      <th>Data de produção</th>\n",
       "      <th>Classificação</th>\n",
       "      <th>Estado de conservação</th>\n",
       "      <th>Dimensões - altura</th>\n",
       "      <th>Dimensões - largura</th>\n",
       "      <th>Dimensões - profundidade/comprimento</th>\n",
       "      <th>Dimensões - diâmetro</th>\n",
       "      <th>Dimensões - peso</th>\n",
       "      <th>Condições de reprodução</th>\n",
       "      <th>ACERVO</th>\n",
       "      <th>URL</th>\n",
       "      <th>TAINACAN_COLECTION_ID</th>\n",
       "    </tr>\n",
       "  </thead>\n",
       "  <tbody>\n",
       "    <tr>\n",
       "      <th>0</th>\n",
       "      <td>6199</td>\n",
       "      <td>NaN</td>\n",
       "      <td>Pintura histórica</td>\n",
       "      <td>Cena retratando a chegada da Fragata Constitui...</td>\n",
       "      <td>Chegada da Fragata Constituição ao Rio de Janeiro</td>\n",
       "      <td>Edoardo De Martino</td>\n",
       "      <td>óleo | tela</td>\n",
       "      <td>Brasil</td>\n",
       "      <td>1872</td>\n",
       "      <td>02 Artes Visuais/Cinematográfica &gt; 02.6 Pintura</td>\n",
       "      <td>Bom</td>\n",
       "      <td>257,00</td>\n",
       "      <td>490,00</td>\n",
       "      <td>0,00</td>\n",
       "      <td>NaN</td>\n",
       "      <td>0,00</td>\n",
       "      <td>Domínio público, ver http://mhn.acervos.museus...</td>\n",
       "      <td>mhn_-_reserva-tecnica</td>\n",
       "      <td>https://mhn.acervos.museus.gov.br/wp-json/tain...</td>\n",
       "      <td>24</td>\n",
       "    </tr>\n",
       "  </tbody>\n",
       "</table>\n",
       "</div>"
      ],
      "text/plain": [
       "   Número de registro  Outros números        Denominação  \\\n",
       "0                6199             NaN  Pintura histórica   \n",
       "\n",
       "                                   Resumo descritivo  \\\n",
       "0  Cena retratando a chegada da Fragata Constitui...   \n",
       "\n",
       "                                              Título               Autor  \\\n",
       "0  Chegada da Fragata Constituição ao Rio de Janeiro  Edoardo De Martino   \n",
       "\n",
       "  Material/Técnica Local de produção Data de produção  \\\n",
       "0      óleo | tela            Brasil             1872   \n",
       "\n",
       "                                     Classificação Estado de conservação  \\\n",
       "0  02 Artes Visuais/Cinematográfica > 02.6 Pintura                   Bom   \n",
       "\n",
       "  Dimensões - altura Dimensões - largura Dimensões - profundidade/comprimento  \\\n",
       "0             257,00              490,00                                 0,00   \n",
       "\n",
       "  Dimensões - diâmetro Dimensões - peso  \\\n",
       "0                  NaN             0,00   \n",
       "\n",
       "                             Condições de reprodução                 ACERVO  \\\n",
       "0  Domínio público, ver http://mhn.acervos.museus...  mhn_-_reserva-tecnica   \n",
       "\n",
       "                                                 URL  TAINACAN_COLECTION_ID  \n",
       "0  https://mhn.acervos.museus.gov.br/wp-json/tain...                     24  "
      ]
     },
     "metadata": {},
     "output_type": "display_data"
    },
    {
     "name": "stdout",
     "output_type": "stream",
     "text": [
      "(847, 20)\n",
      "./Acervos dos museus\\museucasabenjaminconstant_-_acervo-museologico.csv\n"
     ]
    },
    {
     "data": {
      "text/html": [
       "<div>\n",
       "<style scoped>\n",
       "    .dataframe tbody tr th:only-of-type {\n",
       "        vertical-align: middle;\n",
       "    }\n",
       "\n",
       "    .dataframe tbody tr th {\n",
       "        vertical-align: top;\n",
       "    }\n",
       "\n",
       "    .dataframe thead th {\n",
       "        text-align: right;\n",
       "    }\n",
       "</style>\n",
       "<table border=\"1\" class=\"dataframe\">\n",
       "  <thead>\n",
       "    <tr style=\"text-align: right;\">\n",
       "      <th></th>\n",
       "      <th>Denominação</th>\n",
       "      <th>Número de registro</th>\n",
       "      <th>Título</th>\n",
       "      <th>Classificação</th>\n",
       "      <th>Data de produção</th>\n",
       "      <th>Autor</th>\n",
       "      <th>Material/Técnica</th>\n",
       "      <th>Local de produção</th>\n",
       "      <th>Dimensões - altura</th>\n",
       "      <th>Dimensões - largura</th>\n",
       "      <th>Dimensões - profundidade/comprimento</th>\n",
       "      <th>Dimensões - diâmetro</th>\n",
       "      <th>Dimensões - espessura</th>\n",
       "      <th>Resumo descritivo</th>\n",
       "      <th>Condições de reprodução</th>\n",
       "      <th>ACERVO</th>\n",
       "      <th>URL</th>\n",
       "      <th>TAINACAN_COLECTION_ID</th>\n",
       "    </tr>\n",
       "  </thead>\n",
       "  <tbody>\n",
       "    <tr>\n",
       "      <th>0</th>\n",
       "      <td>Mesa-secretária</td>\n",
       "      <td>REG.0001</td>\n",
       "      <td>NaN</td>\n",
       "      <td>05 Interiores &gt; 05.5 Peça de Mobiliário</td>\n",
       "      <td>Século XIX</td>\n",
       "      <td>Não identificado</td>\n",
       "      <td>Madeira &gt; Jacarandá | Metal | Tecido Oleado</td>\n",
       "      <td>Não identificado</td>\n",
       "      <td>77</td>\n",
       "      <td>83,3</td>\n",
       "      <td>167</td>\n",
       "      <td>NaN</td>\n",
       "      <td>NaN</td>\n",
       "      <td>De formato retangular. Tampo forrado de oleado...</td>\n",
       "      <td>NaN</td>\n",
       "      <td>museucasabenjaminconstant_-_acervo-museologico</td>\n",
       "      <td>https://museucasabenjaminconstant.acervos.muse...</td>\n",
       "      <td>5347</td>\n",
       "    </tr>\n",
       "  </tbody>\n",
       "</table>\n",
       "</div>"
      ],
      "text/plain": [
       "       Denominação Número de registro Título  \\\n",
       "0  Mesa-secretária           REG.0001    NaN   \n",
       "\n",
       "                             Classificação Data de produção             Autor  \\\n",
       "0  05 Interiores > 05.5 Peça de Mobiliário       Século XIX  Não identificado   \n",
       "\n",
       "                              Material/Técnica Local de produção  \\\n",
       "0  Madeira > Jacarandá | Metal | Tecido Oleado  Não identificado   \n",
       "\n",
       "  Dimensões - altura Dimensões - largura Dimensões - profundidade/comprimento  \\\n",
       "0                 77                83,3                                  167   \n",
       "\n",
       "  Dimensões - diâmetro Dimensões - espessura  \\\n",
       "0                  NaN                   NaN   \n",
       "\n",
       "                                   Resumo descritivo  Condições de reprodução  \\\n",
       "0  De formato retangular. Tampo forrado de oleado...                      NaN   \n",
       "\n",
       "                                           ACERVO  \\\n",
       "0  museucasabenjaminconstant_-_acervo-museologico   \n",
       "\n",
       "                                                 URL  TAINACAN_COLECTION_ID  \n",
       "0  https://museucasabenjaminconstant.acervos.muse...                   5347  "
      ]
     },
     "metadata": {},
     "output_type": "display_data"
    },
    {
     "name": "stdout",
     "output_type": "stream",
     "text": [
      "(983, 18)\n",
      "./Acervos dos museus\\museucasadahera_-_acervo-museologico.csv\n"
     ]
    },
    {
     "data": {
      "text/html": [
       "<div>\n",
       "<style scoped>\n",
       "    .dataframe tbody tr th:only-of-type {\n",
       "        vertical-align: middle;\n",
       "    }\n",
       "\n",
       "    .dataframe tbody tr th {\n",
       "        vertical-align: top;\n",
       "    }\n",
       "\n",
       "    .dataframe thead th {\n",
       "        text-align: right;\n",
       "    }\n",
       "</style>\n",
       "<table border=\"1\" class=\"dataframe\">\n",
       "  <thead>\n",
       "    <tr style=\"text-align: right;\">\n",
       "      <th></th>\n",
       "      <th>Outros números</th>\n",
       "      <th>Denominação</th>\n",
       "      <th>Título</th>\n",
       "      <th>Autor</th>\n",
       "      <th>Resumo descritivo</th>\n",
       "      <th>Material/Técnica</th>\n",
       "      <th>Classificação</th>\n",
       "      <th>Data de produção</th>\n",
       "      <th>Local de produção</th>\n",
       "      <th>Condições de reprodução</th>\n",
       "      <th>ACERVO</th>\n",
       "      <th>URL</th>\n",
       "      <th>TAINACAN_COLECTION_ID</th>\n",
       "    </tr>\n",
       "  </thead>\n",
       "  <tbody>\n",
       "    <tr>\n",
       "      <th>0</th>\n",
       "      <td>T 1501 | T 1697</td>\n",
       "      <td>Prato Fundo</td>\n",
       "      <td>NaN</td>\n",
       "      <td>Não identificado</td>\n",
       "      <td>Prato fundo em louça branca; Bordas recortadas...</td>\n",
       "      <td>Cerâmica | Pó de Ouro</td>\n",
       "      <td>05 Interiores &gt; 05.6 Utensílio de Cozinha/Mesa</td>\n",
       "      <td>[s.d.]</td>\n",
       "      <td>Não identificado</td>\n",
       "      <td>NaN</td>\n",
       "      <td>museucasadahera_-_acervo-museologico</td>\n",
       "      <td>https://museucasadahera.acervos.museus.gov.br/...</td>\n",
       "      <td>7</td>\n",
       "    </tr>\n",
       "  </tbody>\n",
       "</table>\n",
       "</div>"
      ],
      "text/plain": [
       "    Outros números  Denominação Título             Autor  \\\n",
       "0  T 1501 | T 1697  Prato Fundo    NaN  Não identificado   \n",
       "\n",
       "                                   Resumo descritivo       Material/Técnica  \\\n",
       "0  Prato fundo em louça branca; Bordas recortadas...  Cerâmica | Pó de Ouro   \n",
       "\n",
       "                                    Classificação Data de produção  \\\n",
       "0  05 Interiores > 05.6 Utensílio de Cozinha/Mesa           [s.d.]   \n",
       "\n",
       "  Local de produção  Condições de reprodução  \\\n",
       "0  Não identificado                      NaN   \n",
       "\n",
       "                                 ACERVO  \\\n",
       "0  museucasadahera_-_acervo-museologico   \n",
       "\n",
       "                                                 URL  TAINACAN_COLECTION_ID  \n",
       "0  https://museucasadahera.acervos.museus.gov.br/...                      7  "
      ]
     },
     "metadata": {},
     "output_type": "display_data"
    },
    {
     "name": "stdout",
     "output_type": "stream",
     "text": [
      "(1220, 13)\n",
      "./Acervos dos museus\\museucasadahera_-_indumentaria.csv\n"
     ]
    },
    {
     "data": {
      "text/html": [
       "<div>\n",
       "<style scoped>\n",
       "    .dataframe tbody tr th:only-of-type {\n",
       "        vertical-align: middle;\n",
       "    }\n",
       "\n",
       "    .dataframe tbody tr th {\n",
       "        vertical-align: top;\n",
       "    }\n",
       "\n",
       "    .dataframe thead th {\n",
       "        text-align: right;\n",
       "    }\n",
       "</style>\n",
       "<table border=\"1\" class=\"dataframe\">\n",
       "  <thead>\n",
       "    <tr style=\"text-align: right;\">\n",
       "      <th></th>\n",
       "      <th>Outros números</th>\n",
       "      <th>Denominação</th>\n",
       "      <th>Título</th>\n",
       "      <th>Autor</th>\n",
       "      <th>Resumo descritivo</th>\n",
       "      <th>Material/Técnica</th>\n",
       "      <th>Classificação</th>\n",
       "      <th>Data de produção</th>\n",
       "      <th>Local de produção</th>\n",
       "      <th>Condições de reprodução</th>\n",
       "      <th>ACERVO</th>\n",
       "      <th>URL</th>\n",
       "      <th>TAINACAN_COLECTION_ID</th>\n",
       "    </tr>\n",
       "  </thead>\n",
       "  <tbody>\n",
       "    <tr>\n",
       "      <th>0</th>\n",
       "      <td>T 1118</td>\n",
       "      <td>Costume</td>\n",
       "      <td>NaN</td>\n",
       "      <td>Não identificado</td>\n",
       "      <td>Costume em seda azul marinho e estampado com m...</td>\n",
       "      <td>Miçanga | Seda | Strass</td>\n",
       "      <td>12 Objetos Pessoais &gt; 12.8 Peça de Indumentária</td>\n",
       "      <td>Não identificado</td>\n",
       "      <td>Não identificado</td>\n",
       "      <td>NaN</td>\n",
       "      <td>museucasadahera_-_indumentaria</td>\n",
       "      <td>https://museucasadahera.acervos.museus.gov.br/...</td>\n",
       "      <td>42232</td>\n",
       "    </tr>\n",
       "  </tbody>\n",
       "</table>\n",
       "</div>"
      ],
      "text/plain": [
       "  Outros números Denominação  Título             Autor  \\\n",
       "0         T 1118     Costume     NaN  Não identificado   \n",
       "\n",
       "                                   Resumo descritivo         Material/Técnica  \\\n",
       "0  Costume em seda azul marinho e estampado com m...  Miçanga | Seda | Strass   \n",
       "\n",
       "                                     Classificação  Data de produção  \\\n",
       "0  12 Objetos Pessoais > 12.8 Peça de Indumentária  Não identificado   \n",
       "\n",
       "  Local de produção  Condições de reprodução                          ACERVO  \\\n",
       "0  Não identificado                      NaN  museucasadahera_-_indumentaria   \n",
       "\n",
       "                                                 URL  TAINACAN_COLECTION_ID  \n",
       "0  https://museucasadahera.acervos.museus.gov.br/...                  42232  "
      ]
     },
     "metadata": {},
     "output_type": "display_data"
    },
    {
     "name": "stdout",
     "output_type": "stream",
     "text": [
      "(67, 13)\n",
      "./Acervos dos museus\\museucasahistoricadealcantara_-_objetos.csv\n"
     ]
    },
    {
     "data": {
      "text/html": [
       "<div>\n",
       "<style scoped>\n",
       "    .dataframe tbody tr th:only-of-type {\n",
       "        vertical-align: middle;\n",
       "    }\n",
       "\n",
       "    .dataframe tbody tr th {\n",
       "        vertical-align: top;\n",
       "    }\n",
       "\n",
       "    .dataframe thead th {\n",
       "        text-align: right;\n",
       "    }\n",
       "</style>\n",
       "<table border=\"1\" class=\"dataframe\">\n",
       "  <thead>\n",
       "    <tr style=\"text-align: right;\">\n",
       "      <th></th>\n",
       "      <th>Número de registro</th>\n",
       "      <th>Denominação</th>\n",
       "      <th>Título</th>\n",
       "      <th>Autor</th>\n",
       "      <th>Classificação</th>\n",
       "      <th>Dimensões - altura</th>\n",
       "      <th>Resumo descritivo</th>\n",
       "      <th>Dimensões - largura</th>\n",
       "      <th>Dimensões - profundidade/comprimento</th>\n",
       "      <th>Dimensões - peso</th>\n",
       "      <th>Material/Técnica</th>\n",
       "      <th>Local de produção</th>\n",
       "      <th>Data de produção</th>\n",
       "      <th>Condições de reprodução</th>\n",
       "      <th>ACERVO</th>\n",
       "      <th>URL</th>\n",
       "      <th>TAINACAN_COLECTION_ID</th>\n",
       "    </tr>\n",
       "  </thead>\n",
       "  <tbody>\n",
       "    <tr>\n",
       "      <th>0</th>\n",
       "      <td>MCHA.0001a</td>\n",
       "      <td>Guarda-roupa</td>\n",
       "      <td>NaN</td>\n",
       "      <td>NaN</td>\n",
       "      <td>05 Interiores &gt; 05.5 Peça de Mobiliário</td>\n",
       "      <td>269,5</td>\n",
       "      <td>Móvel em formato retangular com portas e gavet...</td>\n",
       "      <td>122,0</td>\n",
       "      <td>60,0</td>\n",
       "      <td>NaN</td>\n",
       "      <td>Ferro | Madeira</td>\n",
       "      <td>Alcântara , Maranhão, Brasil</td>\n",
       "      <td>[s.d.]</td>\n",
       "      <td>NaN</td>\n",
       "      <td>museucasahistoricadealcantara_-_objetos</td>\n",
       "      <td>https://museucasahistoricadealcantara.acervos....</td>\n",
       "      <td>14284</td>\n",
       "    </tr>\n",
       "  </tbody>\n",
       "</table>\n",
       "</div>"
      ],
      "text/plain": [
       "  Número de registro   Denominação Título Autor  \\\n",
       "0         MCHA.0001a  Guarda-roupa    NaN   NaN   \n",
       "\n",
       "                             Classificação Dimensões - altura  \\\n",
       "0  05 Interiores > 05.5 Peça de Mobiliário              269,5   \n",
       "\n",
       "                                   Resumo descritivo Dimensões - largura  \\\n",
       "0  Móvel em formato retangular com portas e gavet...               122,0   \n",
       "\n",
       "  Dimensões - profundidade/comprimento  Dimensões - peso Material/Técnica  \\\n",
       "0                                 60,0               NaN  Ferro | Madeira   \n",
       "\n",
       "              Local de produção Data de produção  Condições de reprodução  \\\n",
       "0  Alcântara , Maranhão, Brasil           [s.d.]                      NaN   \n",
       "\n",
       "                                    ACERVO  \\\n",
       "0  museucasahistoricadealcantara_-_objetos   \n",
       "\n",
       "                                                 URL  TAINACAN_COLECTION_ID  \n",
       "0  https://museucasahistoricadealcantara.acervos....                  14284  "
      ]
     },
     "metadata": {},
     "output_type": "display_data"
    },
    {
     "name": "stdout",
     "output_type": "stream",
     "text": [
      "(631, 17)\n",
      "./Acervos dos museus\\museudaabolicao_-_acervo_museologico.csv\n"
     ]
    },
    {
     "data": {
      "text/html": [
       "<div>\n",
       "<style scoped>\n",
       "    .dataframe tbody tr th:only-of-type {\n",
       "        vertical-align: middle;\n",
       "    }\n",
       "\n",
       "    .dataframe tbody tr th {\n",
       "        vertical-align: top;\n",
       "    }\n",
       "\n",
       "    .dataframe thead th {\n",
       "        text-align: right;\n",
       "    }\n",
       "</style>\n",
       "<table border=\"1\" class=\"dataframe\">\n",
       "  <thead>\n",
       "    <tr style=\"text-align: right;\">\n",
       "      <th></th>\n",
       "      <th>Número de registro</th>\n",
       "      <th>Denominação</th>\n",
       "      <th>Título</th>\n",
       "      <th>Autor</th>\n",
       "      <th>Classificação</th>\n",
       "      <th>Resumo descritivo</th>\n",
       "      <th>Dimensões - altura</th>\n",
       "      <th>Dimensões - peso</th>\n",
       "      <th>Dimensões - largura</th>\n",
       "      <th>Dimensões - espessura</th>\n",
       "      <th>Material/Técnica</th>\n",
       "      <th>Local de produção</th>\n",
       "      <th>Data de produção</th>\n",
       "      <th>Condições de reprodução</th>\n",
       "      <th>Mídias relacionadas</th>\n",
       "      <th>ACERVO</th>\n",
       "      <th>URL</th>\n",
       "      <th>TAINACAN_COLECTION_ID</th>\n",
       "    </tr>\n",
       "  </thead>\n",
       "  <tbody>\n",
       "    <tr>\n",
       "      <th>0</th>\n",
       "      <td>83.36a</td>\n",
       "      <td>Lanterna processional (base)</td>\n",
       "      <td>Sem título</td>\n",
       "      <td>Sem Autor</td>\n",
       "      <td>09 Objetos Cerimoniais &gt; 09.3 Objeto de Culto</td>\n",
       "      <td>Corpo hexagonal, faces vazadas e protegidas po...</td>\n",
       "      <td>50</td>\n",
       "      <td>NaN</td>\n",
       "      <td>15</td>\n",
       "      <td>13.0</td>\n",
       "      <td>prata | vidro</td>\n",
       "      <td>NaN</td>\n",
       "      <td>[20-]</td>\n",
       "      <td>sem restrição</td>\n",
       "      <td>arquivos de imagem</td>\n",
       "      <td>museudaabolicao_-_acervo_museologico</td>\n",
       "      <td>https://museudaabolicao.acervos.museus.gov.br/...</td>\n",
       "      <td>7</td>\n",
       "    </tr>\n",
       "  </tbody>\n",
       "</table>\n",
       "</div>"
      ],
      "text/plain": [
       "  Número de registro                   Denominação      Título      Autor  \\\n",
       "0             83.36a  Lanterna processional (base)  Sem título  Sem Autor   \n",
       "\n",
       "                                   Classificação  \\\n",
       "0  09 Objetos Cerimoniais > 09.3 Objeto de Culto   \n",
       "\n",
       "                                   Resumo descritivo Dimensões - altura  \\\n",
       "0  Corpo hexagonal, faces vazadas e protegidas po...                 50   \n",
       "\n",
       "  Dimensões - peso Dimensões - largura Dimensões - espessura Material/Técnica  \\\n",
       "0              NaN                  15                  13.0    prata | vidro   \n",
       "\n",
       "  Local de produção Data de produção Condições de reprodução  \\\n",
       "0               NaN            [20-]           sem restrição   \n",
       "\n",
       "  Mídias relacionadas                                ACERVO  \\\n",
       "0  arquivos de imagem  museudaabolicao_-_acervo_museologico   \n",
       "\n",
       "                                                 URL  TAINACAN_COLECTION_ID  \n",
       "0  https://museudaabolicao.acervos.museus.gov.br/...                      7  "
      ]
     },
     "metadata": {},
     "output_type": "display_data"
    },
    {
     "name": "stdout",
     "output_type": "stream",
     "text": [
      "(301, 18)\n",
      "./Acervos dos museus\\museudainconfidencia_-_acervo-museologico.csv\n"
     ]
    },
    {
     "data": {
      "text/html": [
       "<div>\n",
       "<style scoped>\n",
       "    .dataframe tbody tr th:only-of-type {\n",
       "        vertical-align: middle;\n",
       "    }\n",
       "\n",
       "    .dataframe tbody tr th {\n",
       "        vertical-align: top;\n",
       "    }\n",
       "\n",
       "    .dataframe thead th {\n",
       "        text-align: right;\n",
       "    }\n",
       "</style>\n",
       "<table border=\"1\" class=\"dataframe\">\n",
       "  <thead>\n",
       "    <tr style=\"text-align: right;\">\n",
       "      <th></th>\n",
       "      <th>Número de registro</th>\n",
       "      <th>Denominação</th>\n",
       "      <th>Título</th>\n",
       "      <th>Autor</th>\n",
       "      <th>Classificação</th>\n",
       "      <th>Dimensões - altura</th>\n",
       "      <th>Dimensões - largura</th>\n",
       "      <th>Dimensões - profundidade/comprimento</th>\n",
       "      <th>Dimensões - espessura</th>\n",
       "      <th>Dimensões - diâmetro</th>\n",
       "      <th>Dimensões - peso</th>\n",
       "      <th>Material/Técnica</th>\n",
       "      <th>Estado de conservação</th>\n",
       "      <th>Local de produção</th>\n",
       "      <th>Data de produção</th>\n",
       "      <th>ACERVO</th>\n",
       "      <th>URL</th>\n",
       "      <th>TAINACAN_COLECTION_ID</th>\n",
       "    </tr>\n",
       "  </thead>\n",
       "  <tbody>\n",
       "    <tr>\n",
       "      <th>0</th>\n",
       "      <td>1.0</td>\n",
       "      <td>Relógio de caixa alta</td>\n",
       "      <td>Sem título</td>\n",
       "      <td>Não identificado</td>\n",
       "      <td>14 Medição/Registro/Observação/Processamento &gt;...</td>\n",
       "      <td>263.0</td>\n",
       "      <td>56.0</td>\n",
       "      <td>NaN</td>\n",
       "      <td>NaN</td>\n",
       "      <td>NaN</td>\n",
       "      <td>NaN</td>\n",
       "      <td>Madeira &gt; Cedro | Metal | Vidro</td>\n",
       "      <td>Regular</td>\n",
       "      <td>Brasil &gt; Minas Gerais (?)</td>\n",
       "      <td>[entre 1801 e 1850]</td>\n",
       "      <td>museudainconfidencia_-_acervo-museologico</td>\n",
       "      <td>https://museudainconfidencia.acervos.museus.go...</td>\n",
       "      <td>9</td>\n",
       "    </tr>\n",
       "  </tbody>\n",
       "</table>\n",
       "</div>"
      ],
      "text/plain": [
       "   Número de registro            Denominação      Título             Autor  \\\n",
       "0                 1.0  Relógio de caixa alta  Sem título  Não identificado   \n",
       "\n",
       "                                       Classificação Dimensões - altura  \\\n",
       "0  14 Medição/Registro/Observação/Processamento >...              263.0   \n",
       "\n",
       "  Dimensões - largura Dimensões - profundidade/comprimento  \\\n",
       "0                56.0                                  NaN   \n",
       "\n",
       "  Dimensões - espessura Dimensões - diâmetro  Dimensões - peso  \\\n",
       "0                   NaN                  NaN               NaN   \n",
       "\n",
       "                  Material/Técnica Estado de conservação  \\\n",
       "0  Madeira > Cedro | Metal | Vidro               Regular   \n",
       "\n",
       "           Local de produção     Data de produção  \\\n",
       "0  Brasil > Minas Gerais (?)  [entre 1801 e 1850]   \n",
       "\n",
       "                                      ACERVO  \\\n",
       "0  museudainconfidencia_-_acervo-museologico   \n",
       "\n",
       "                                                 URL  TAINACAN_COLECTION_ID  \n",
       "0  https://museudainconfidencia.acervos.museus.go...                      9  "
      ]
     },
     "metadata": {},
     "output_type": "display_data"
    },
    {
     "name": "stdout",
     "output_type": "stream",
     "text": [
      "(4624, 18)\n",
      "./Acervos dos museus\\museudasmissoes_-_acervo-museologico.csv\n"
     ]
    },
    {
     "data": {
      "text/html": [
       "<div>\n",
       "<style scoped>\n",
       "    .dataframe tbody tr th:only-of-type {\n",
       "        vertical-align: middle;\n",
       "    }\n",
       "\n",
       "    .dataframe tbody tr th {\n",
       "        vertical-align: top;\n",
       "    }\n",
       "\n",
       "    .dataframe thead th {\n",
       "        text-align: right;\n",
       "    }\n",
       "</style>\n",
       "<table border=\"1\" class=\"dataframe\">\n",
       "  <thead>\n",
       "    <tr style=\"text-align: right;\">\n",
       "      <th></th>\n",
       "      <th>Título</th>\n",
       "      <th>Número de registro</th>\n",
       "      <th>Autor</th>\n",
       "      <th>Classificação</th>\n",
       "      <th>Material/Técnica</th>\n",
       "      <th>Local de produção</th>\n",
       "      <th>Data de produção</th>\n",
       "      <th>Dimensões - altura</th>\n",
       "      <th>Dimensões - largura</th>\n",
       "      <th>Dimensões - diâmetro</th>\n",
       "      <th>Dimensões - profundidade/comprimento</th>\n",
       "      <th>Dimensões - peso</th>\n",
       "      <th>Resumo descritivo</th>\n",
       "      <th>Condições de reprodução</th>\n",
       "      <th>ACERVO</th>\n",
       "      <th>URL</th>\n",
       "      <th>TAINACAN_COLECTION_ID</th>\n",
       "    </tr>\n",
       "  </thead>\n",
       "  <tbody>\n",
       "    <tr>\n",
       "      <th>0</th>\n",
       "      <td>Escultura religiosa, Nossa Senhora da Conceiçã...</td>\n",
       "      <td>1</td>\n",
       "      <td>Não identificado</td>\n",
       "      <td>02 Artes Visuais/Cinematográfica &gt; 02.3 Escultura</td>\n",
       "      <td>cedro | madeira policromada</td>\n",
       "      <td>NaN</td>\n",
       "      <td>[16- e 17-]</td>\n",
       "      <td>122</td>\n",
       "      <td>57</td>\n",
       "      <td>NaN</td>\n",
       "      <td>35</td>\n",
       "      <td>49</td>\n",
       "      <td>Figura feminina de pé na posição frontal com a...</td>\n",
       "      <td>NaN</td>\n",
       "      <td>museudasmissoes_-_acervo-museologico</td>\n",
       "      <td>https://museudasmissoes.acervos.museus.gov.br/...</td>\n",
       "      <td>6409</td>\n",
       "    </tr>\n",
       "  </tbody>\n",
       "</table>\n",
       "</div>"
      ],
      "text/plain": [
       "                                              Título  Número de registro  \\\n",
       "0  Escultura religiosa, Nossa Senhora da Conceiçã...                   1   \n",
       "\n",
       "              Autor                                      Classificação  \\\n",
       "0  Não identificado  02 Artes Visuais/Cinematográfica > 02.3 Escultura   \n",
       "\n",
       "              Material/Técnica  Local de produção Data de produção  \\\n",
       "0  cedro | madeira policromada                NaN      [16- e 17-]   \n",
       "\n",
       "  Dimensões - altura Dimensões - largura  Dimensões - diâmetro  \\\n",
       "0                122                  57                   NaN   \n",
       "\n",
       "  Dimensões - profundidade/comprimento Dimensões - peso  \\\n",
       "0                                   35               49   \n",
       "\n",
       "                                   Resumo descritivo  Condições de reprodução  \\\n",
       "0  Figura feminina de pé na posição frontal com a...                      NaN   \n",
       "\n",
       "                                 ACERVO  \\\n",
       "0  museudasmissoes_-_acervo-museologico   \n",
       "\n",
       "                                                 URL  TAINACAN_COLECTION_ID  \n",
       "0  https://museudasmissoes.acervos.museus.gov.br/...                   6409  "
      ]
     },
     "metadata": {},
     "output_type": "display_data"
    },
    {
     "name": "stdout",
     "output_type": "stream",
     "text": [
      "(90, 17)\n",
      "./Acervos dos museus\\museudearqueologiadeitaipu_-_museu-itaipu.csv\n"
     ]
    },
    {
     "data": {
      "text/html": [
       "<div>\n",
       "<style scoped>\n",
       "    .dataframe tbody tr th:only-of-type {\n",
       "        vertical-align: middle;\n",
       "    }\n",
       "\n",
       "    .dataframe tbody tr th {\n",
       "        vertical-align: top;\n",
       "    }\n",
       "\n",
       "    .dataframe thead th {\n",
       "        text-align: right;\n",
       "    }\n",
       "</style>\n",
       "<table border=\"1\" class=\"dataframe\">\n",
       "  <thead>\n",
       "    <tr style=\"text-align: right;\">\n",
       "      <th></th>\n",
       "      <th>Número de registro</th>\n",
       "      <th>Outros números</th>\n",
       "      <th>Denominação</th>\n",
       "      <th>Material/Técnica</th>\n",
       "      <th>Classificação</th>\n",
       "      <th>Autor</th>\n",
       "      <th>Resumo descritivo</th>\n",
       "      <th>Estado de conservação</th>\n",
       "      <th>Data de produção</th>\n",
       "      <th>Dimensões - largura</th>\n",
       "      <th>Dimensões - diâmetro</th>\n",
       "      <th>Dimensões - altura</th>\n",
       "      <th>Dimensões - espessura</th>\n",
       "      <th>Dimensões - profundidade/comprimento</th>\n",
       "      <th>Dimensões - peso</th>\n",
       "      <th>Situação</th>\n",
       "      <th>ACERVO</th>\n",
       "      <th>URL</th>\n",
       "      <th>TAINACAN_COLECTION_ID</th>\n",
       "    </tr>\n",
       "  </thead>\n",
       "  <tbody>\n",
       "    <tr>\n",
       "      <th>0</th>\n",
       "      <td>JC-18-874</td>\n",
       "      <td>JC-18-874</td>\n",
       "      <td>Vértebra de peixe</td>\n",
       "      <td>Fauna</td>\n",
       "      <td>16 Amostras/Fragmentos</td>\n",
       "      <td>NaN</td>\n",
       "      <td>Vértebra caudal de peixe, incompleta, apresent...</td>\n",
       "      <td>Bom</td>\n",
       "      <td>Não se aplica</td>\n",
       "      <td>NaN</td>\n",
       "      <td>NaN</td>\n",
       "      <td>NaN</td>\n",
       "      <td>Não se aplica</td>\n",
       "      <td>Não se aplica</td>\n",
       "      <td>5</td>\n",
       "      <td>Localizado</td>\n",
       "      <td>museudearqueologiadeitaipu_-_museu-itaipu</td>\n",
       "      <td>https://museudearqueologiadeitaipu.museus.gov....</td>\n",
       "      <td>94553</td>\n",
       "    </tr>\n",
       "  </tbody>\n",
       "</table>\n",
       "</div>"
      ],
      "text/plain": [
       "  Número de registro Outros números        Denominação Material/Técnica  \\\n",
       "0          JC-18-874      JC-18-874  Vértebra de peixe            Fauna   \n",
       "\n",
       "            Classificação  Autor  \\\n",
       "0  16 Amostras/Fragmentos    NaN   \n",
       "\n",
       "                                   Resumo descritivo Estado de conservação  \\\n",
       "0  Vértebra caudal de peixe, incompleta, apresent...                   Bom   \n",
       "\n",
       "  Data de produção Dimensões - largura Dimensões - diâmetro  \\\n",
       "0    Não se aplica                 NaN                  NaN   \n",
       "\n",
       "  Dimensões - altura Dimensões - espessura  \\\n",
       "0                NaN         Não se aplica   \n",
       "\n",
       "  Dimensões - profundidade/comprimento Dimensões - peso    Situação  \\\n",
       "0                        Não se aplica                5  Localizado   \n",
       "\n",
       "                                      ACERVO  \\\n",
       "0  museudearqueologiadeitaipu_-_museu-itaipu   \n",
       "\n",
       "                                                 URL  TAINACAN_COLECTION_ID  \n",
       "0  https://museudearqueologiadeitaipu.museus.gov....                  94553  "
      ]
     },
     "metadata": {},
     "output_type": "display_data"
    },
    {
     "name": "stdout",
     "output_type": "stream",
     "text": [
      "(1040, 19)\n",
      "./Acervos dos museus\\museudeartereligiosaetradicional_-_acervo-museologico.csv\n"
     ]
    },
    {
     "data": {
      "text/html": [
       "<div>\n",
       "<style scoped>\n",
       "    .dataframe tbody tr th:only-of-type {\n",
       "        vertical-align: middle;\n",
       "    }\n",
       "\n",
       "    .dataframe tbody tr th {\n",
       "        vertical-align: top;\n",
       "    }\n",
       "\n",
       "    .dataframe thead th {\n",
       "        text-align: right;\n",
       "    }\n",
       "</style>\n",
       "<table border=\"1\" class=\"dataframe\">\n",
       "  <thead>\n",
       "    <tr style=\"text-align: right;\">\n",
       "      <th></th>\n",
       "      <th>Número de registro</th>\n",
       "      <th>Título</th>\n",
       "      <th>Autor</th>\n",
       "      <th>Data de produção</th>\n",
       "      <th>Dimensões</th>\n",
       "      <th>Material/Técnica</th>\n",
       "      <th>Classificação</th>\n",
       "      <th>Resumo descritivo</th>\n",
       "      <th>Condições de reprodução</th>\n",
       "      <th>Local de produção</th>\n",
       "      <th>ACERVO</th>\n",
       "      <th>URL</th>\n",
       "      <th>TAINACAN_COLECTION_ID</th>\n",
       "    </tr>\n",
       "  </thead>\n",
       "  <tbody>\n",
       "    <tr>\n",
       "      <th>0</th>\n",
       "      <td>MART.0204.0003</td>\n",
       "      <td>Menino Jesus</td>\n",
       "      <td>Mestre de Angra (atribuído)</td>\n",
       "      <td>NaN</td>\n",
       "      <td>a 62 x l 26 x p 18,5 | Base em madeira: 22 x 2...</td>\n",
       "      <td>Terracota</td>\n",
       "      <td>02 Artes Visuais/Cinematográfica &gt; 02.3 Escultura</td>\n",
       "      <td>NaN</td>\n",
       "      <td>NaN</td>\n",
       "      <td>NaN</td>\n",
       "      <td>museudeartereligiosaetradicional_-_acervo-muse...</td>\n",
       "      <td>https://museudeartereligiosaetradicional.acerv...</td>\n",
       "      <td>878</td>\n",
       "    </tr>\n",
       "  </tbody>\n",
       "</table>\n",
       "</div>"
      ],
      "text/plain": [
       "  Número de registro        Título                        Autor  \\\n",
       "0     MART.0204.0003  Menino Jesus  Mestre de Angra (atribuído)   \n",
       "\n",
       "   Data de produção                                          Dimensões  \\\n",
       "0               NaN  a 62 x l 26 x p 18,5 | Base em madeira: 22 x 2...   \n",
       "\n",
       "  Material/Técnica                                      Classificação  \\\n",
       "0        Terracota  02 Artes Visuais/Cinematográfica > 02.3 Escultura   \n",
       "\n",
       "  Resumo descritivo  Condições de reprodução  Local de produção  \\\n",
       "0               NaN                      NaN                NaN   \n",
       "\n",
       "                                              ACERVO  \\\n",
       "0  museudeartereligiosaetradicional_-_acervo-muse...   \n",
       "\n",
       "                                                 URL  TAINACAN_COLECTION_ID  \n",
       "0  https://museudeartereligiosaetradicional.acerv...                    878  "
      ]
     },
     "metadata": {},
     "output_type": "display_data"
    },
    {
     "name": "stdout",
     "output_type": "stream",
     "text": [
      "(132, 13)\n",
      "./Acervos dos museus\\museudodiamante_-_acervo-museologico.csv\n"
     ]
    },
    {
     "data": {
      "text/html": [
       "<div>\n",
       "<style scoped>\n",
       "    .dataframe tbody tr th:only-of-type {\n",
       "        vertical-align: middle;\n",
       "    }\n",
       "\n",
       "    .dataframe tbody tr th {\n",
       "        vertical-align: top;\n",
       "    }\n",
       "\n",
       "    .dataframe thead th {\n",
       "        text-align: right;\n",
       "    }\n",
       "</style>\n",
       "<table border=\"1\" class=\"dataframe\">\n",
       "  <thead>\n",
       "    <tr style=\"text-align: right;\">\n",
       "      <th></th>\n",
       "      <th>Título</th>\n",
       "      <th>Número de registro</th>\n",
       "      <th>Denominação</th>\n",
       "      <th>Classificação</th>\n",
       "      <th>Local de produção</th>\n",
       "      <th>Data de produção</th>\n",
       "      <th>Autor</th>\n",
       "      <th>Material/Técnica</th>\n",
       "      <th>Dimensões - altura</th>\n",
       "      <th>Dimensões - largura</th>\n",
       "      <th>...</th>\n",
       "      <th>Dimensões - profundidade/comprimento</th>\n",
       "      <th>Dimensões - diâmetro</th>\n",
       "      <th>Dimensões - espessura</th>\n",
       "      <th>Dimensões - peso</th>\n",
       "      <th>Resumo descritivo</th>\n",
       "      <th>Condições de reprodução</th>\n",
       "      <th>Mídias relacionadas</th>\n",
       "      <th>ACERVO</th>\n",
       "      <th>URL</th>\n",
       "      <th>TAINACAN_COLECTION_ID</th>\n",
       "    </tr>\n",
       "  </thead>\n",
       "  <tbody>\n",
       "    <tr>\n",
       "      <th>0</th>\n",
       "      <td>NaN</td>\n",
       "      <td>1</td>\n",
       "      <td>Caldeirão</td>\n",
       "      <td>05 Interiores &gt; 05.6 Utensílio de Cozinha/Mesa</td>\n",
       "      <td>Minas Gerais</td>\n",
       "      <td>Século XIX</td>\n",
       "      <td>Não identificada</td>\n",
       "      <td>ferro | fundição | metal</td>\n",
       "      <td>60</td>\n",
       "      <td>NaN</td>\n",
       "      <td>...</td>\n",
       "      <td>NaN</td>\n",
       "      <td>60</td>\n",
       "      <td>NaN</td>\n",
       "      <td>NaN</td>\n",
       "      <td>Caldeirão, de grande porte, confeccionado em m...</td>\n",
       "      <td>NaN</td>\n",
       "      <td>NaN</td>\n",
       "      <td>museudodiamante_-_acervo-museologico</td>\n",
       "      <td>https://museudodiamante.acervos.museus.gov.br/...</td>\n",
       "      <td>11603</td>\n",
       "    </tr>\n",
       "  </tbody>\n",
       "</table>\n",
       "<p>1 rows × 21 columns</p>\n",
       "</div>"
      ],
      "text/plain": [
       "  Título  Número de registro Denominação  \\\n",
       "0    NaN                   1   Caldeirão   \n",
       "\n",
       "                                    Classificação Local de produção  \\\n",
       "0  05 Interiores > 05.6 Utensílio de Cozinha/Mesa      Minas Gerais   \n",
       "\n",
       "  Data de produção             Autor          Material/Técnica  \\\n",
       "0       Século XIX  Não identificada  ferro | fundição | metal   \n",
       "\n",
       "  Dimensões - altura Dimensões - largura  ...  \\\n",
       "0                 60                 NaN  ...   \n",
       "\n",
       "   Dimensões - profundidade/comprimento Dimensões - diâmetro  \\\n",
       "0                                   NaN                   60   \n",
       "\n",
       "  Dimensões - espessura Dimensões - peso  \\\n",
       "0                   NaN              NaN   \n",
       "\n",
       "                                   Resumo descritivo Condições de reprodução  \\\n",
       "0  Caldeirão, de grande porte, confeccionado em m...                     NaN   \n",
       "\n",
       "   Mídias relacionadas                                ACERVO  \\\n",
       "0                  NaN  museudodiamante_-_acervo-museologico   \n",
       "\n",
       "                                                 URL TAINACAN_COLECTION_ID  \n",
       "0  https://museudodiamante.acervos.museus.gov.br/...                 11603  \n",
       "\n",
       "[1 rows x 21 columns]"
      ]
     },
     "metadata": {},
     "output_type": "display_data"
    },
    {
     "name": "stdout",
     "output_type": "stream",
     "text": [
      "(895, 21)\n",
      "./Acervos dos museus\\museudoouro_-_acervo.csv\n"
     ]
    },
    {
     "data": {
      "text/html": [
       "<div>\n",
       "<style scoped>\n",
       "    .dataframe tbody tr th:only-of-type {\n",
       "        vertical-align: middle;\n",
       "    }\n",
       "\n",
       "    .dataframe tbody tr th {\n",
       "        vertical-align: top;\n",
       "    }\n",
       "\n",
       "    .dataframe thead th {\n",
       "        text-align: right;\n",
       "    }\n",
       "</style>\n",
       "<table border=\"1\" class=\"dataframe\">\n",
       "  <thead>\n",
       "    <tr style=\"text-align: right;\">\n",
       "      <th></th>\n",
       "      <th>Número de registro</th>\n",
       "      <th>Denominação</th>\n",
       "      <th>Título</th>\n",
       "      <th>Classificação</th>\n",
       "      <th>Local de produção</th>\n",
       "      <th>Data de produção</th>\n",
       "      <th>Autor</th>\n",
       "      <th>Material/Técnica</th>\n",
       "      <th>Dimensões</th>\n",
       "      <th>Resumo descritivo</th>\n",
       "      <th>Condições de reprodução</th>\n",
       "      <th>Mídias relacionadas</th>\n",
       "      <th>ACERVO</th>\n",
       "      <th>URL</th>\n",
       "      <th>TAINACAN_COLECTION_ID</th>\n",
       "    </tr>\n",
       "  </thead>\n",
       "  <tbody>\n",
       "    <tr>\n",
       "      <th>0</th>\n",
       "      <td>1</td>\n",
       "      <td>Barra de ouro</td>\n",
       "      <td>NaN</td>\n",
       "      <td>03 Objetos Pecuniários</td>\n",
       "      <td>Mato Grosso</td>\n",
       "      <td>1816 | Século XIX</td>\n",
       "      <td>Casa de Fundição de Mato Grosso</td>\n",
       "      <td>ouro fundido</td>\n",
       "      <td>Altura (cm): Largura (cm): 2,8 Comprimento (cm...</td>\n",
       "      <td>Barra retangular irregular e grossa. Em uma fa...</td>\n",
       "      <td>Domínio público, ver http://museudoouro.acervo...</td>\n",
       "      <td>NaN</td>\n",
       "      <td>museudoouro_-_acervo</td>\n",
       "      <td>https://museudoouro.acervos.museus.gov.br/wp-j...</td>\n",
       "      <td>3583</td>\n",
       "    </tr>\n",
       "  </tbody>\n",
       "</table>\n",
       "</div>"
      ],
      "text/plain": [
       "   Número de registro    Denominação Título           Classificação  \\\n",
       "0                   1  Barra de ouro    NaN  03 Objetos Pecuniários   \n",
       "\n",
       "  Local de produção   Data de produção                            Autor  \\\n",
       "0       Mato Grosso  1816 | Século XIX  Casa de Fundição de Mato Grosso   \n",
       "\n",
       "  Material/Técnica                                          Dimensões  \\\n",
       "0     ouro fundido  Altura (cm): Largura (cm): 2,8 Comprimento (cm...   \n",
       "\n",
       "                                   Resumo descritivo  \\\n",
       "0  Barra retangular irregular e grossa. Em uma fa...   \n",
       "\n",
       "                             Condições de reprodução  Mídias relacionadas  \\\n",
       "0  Domínio público, ver http://museudoouro.acervo...                  NaN   \n",
       "\n",
       "                 ACERVO                                                URL  \\\n",
       "0  museudoouro_-_acervo  https://museudoouro.acervos.museus.gov.br/wp-j...   \n",
       "\n",
       "   TAINACAN_COLECTION_ID  \n",
       "0                   3583  "
      ]
     },
     "metadata": {},
     "output_type": "display_data"
    },
    {
     "name": "stdout",
     "output_type": "stream",
     "text": [
      "(126, 15)\n",
      "./Acervos dos museus\\museuregionalcasadosottoni_-_acervo-museologico.csv\n"
     ]
    },
    {
     "data": {
      "text/html": [
       "<div>\n",
       "<style scoped>\n",
       "    .dataframe tbody tr th:only-of-type {\n",
       "        vertical-align: middle;\n",
       "    }\n",
       "\n",
       "    .dataframe tbody tr th {\n",
       "        vertical-align: top;\n",
       "    }\n",
       "\n",
       "    .dataframe thead th {\n",
       "        text-align: right;\n",
       "    }\n",
       "</style>\n",
       "<table border=\"1\" class=\"dataframe\">\n",
       "  <thead>\n",
       "    <tr style=\"text-align: right;\">\n",
       "      <th></th>\n",
       "      <th>Número de registro</th>\n",
       "      <th>Denominação</th>\n",
       "      <th>Autor</th>\n",
       "      <th>Material/Técnica</th>\n",
       "      <th>Local de produção</th>\n",
       "      <th>Data de produção</th>\n",
       "      <th>Classificação</th>\n",
       "      <th>Dimensões - altura</th>\n",
       "      <th>Dimensões - profundidade/comprimento</th>\n",
       "      <th>Dimensões - largura</th>\n",
       "      <th>Dimensões - espessura</th>\n",
       "      <th>Dimensões - diâmetro</th>\n",
       "      <th>Resumo descritivo</th>\n",
       "      <th>Condições de reprodução</th>\n",
       "      <th>ACERVO</th>\n",
       "      <th>URL</th>\n",
       "      <th>TAINACAN_COLECTION_ID</th>\n",
       "    </tr>\n",
       "  </thead>\n",
       "  <tbody>\n",
       "    <tr>\n",
       "      <th>0</th>\n",
       "      <td>1</td>\n",
       "      <td>Clichê</td>\n",
       "      <td>Christiano B. Ottoni Filho (risco); Ivo Ferrei...</td>\n",
       "      <td>madeira | metal | tinta</td>\n",
       "      <td>Rio de Janeiro</td>\n",
       "      <td>Séc. XX</td>\n",
       "      <td>10 Comunicação &gt; 10.1 Documento</td>\n",
       "      <td>24,5</td>\n",
       "      <td>NaN</td>\n",
       "      <td>19,4</td>\n",
       "      <td>0,6</td>\n",
       "      <td>NaN</td>\n",
       "      <td>Clichê para impressão em prelo manual, confecc...</td>\n",
       "      <td>Domínio público, ver http://museuregionalcasad...</td>\n",
       "      <td>museuregionalcasadosottoni_-_acervo-museologico</td>\n",
       "      <td>https://museuregionalcasadosottoni.acervos.mus...</td>\n",
       "      <td>31492</td>\n",
       "    </tr>\n",
       "  </tbody>\n",
       "</table>\n",
       "</div>"
      ],
      "text/plain": [
       "   Número de registro Denominação  \\\n",
       "0                   1      Clichê   \n",
       "\n",
       "                                               Autor         Material/Técnica  \\\n",
       "0  Christiano B. Ottoni Filho (risco); Ivo Ferrei...  madeira | metal | tinta   \n",
       "\n",
       "  Local de produção Data de produção                    Classificação  \\\n",
       "0    Rio de Janeiro          Séc. XX  10 Comunicação > 10.1 Documento   \n",
       "\n",
       "  Dimensões - altura Dimensões - profundidade/comprimento Dimensões - largura  \\\n",
       "0               24,5                                  NaN                19,4   \n",
       "\n",
       "  Dimensões - espessura Dimensões - diâmetro  \\\n",
       "0                   0,6                  NaN   \n",
       "\n",
       "                                   Resumo descritivo  \\\n",
       "0  Clichê para impressão em prelo manual, confecc...   \n",
       "\n",
       "                             Condições de reprodução  \\\n",
       "0  Domínio público, ver http://museuregionalcasad...   \n",
       "\n",
       "                                            ACERVO  \\\n",
       "0  museuregionalcasadosottoni_-_acervo-museologico   \n",
       "\n",
       "                                                 URL  TAINACAN_COLECTION_ID  \n",
       "0  https://museuregionalcasadosottoni.acervos.mus...                  31492  "
      ]
     },
     "metadata": {},
     "output_type": "display_data"
    },
    {
     "name": "stdout",
     "output_type": "stream",
     "text": [
      "(463, 17)\n",
      "./Acervos dos museus\\museuregionaldecaete_-_acervo.csv\n"
     ]
    },
    {
     "data": {
      "text/html": [
       "<div>\n",
       "<style scoped>\n",
       "    .dataframe tbody tr th:only-of-type {\n",
       "        vertical-align: middle;\n",
       "    }\n",
       "\n",
       "    .dataframe tbody tr th {\n",
       "        vertical-align: top;\n",
       "    }\n",
       "\n",
       "    .dataframe thead th {\n",
       "        text-align: right;\n",
       "    }\n",
       "</style>\n",
       "<table border=\"1\" class=\"dataframe\">\n",
       "  <thead>\n",
       "    <tr style=\"text-align: right;\">\n",
       "      <th></th>\n",
       "      <th>Número de registro</th>\n",
       "      <th>Denominação</th>\n",
       "      <th>Título</th>\n",
       "      <th>Autor</th>\n",
       "      <th>Classificação</th>\n",
       "      <th>Resumo descritivo</th>\n",
       "      <th>Dimensões - altura</th>\n",
       "      <th>Dimensões - largura</th>\n",
       "      <th>Dimensões - profundidade/comprimento</th>\n",
       "      <th>Dimensões - diâmetro</th>\n",
       "      <th>Dimensões - peso</th>\n",
       "      <th>Material/Técnica</th>\n",
       "      <th>Local de produção</th>\n",
       "      <th>Data de produção</th>\n",
       "      <th>ACERVO</th>\n",
       "      <th>URL</th>\n",
       "      <th>TAINACAN_COLECTION_ID</th>\n",
       "    </tr>\n",
       "  </thead>\n",
       "  <tbody>\n",
       "    <tr>\n",
       "      <th>0</th>\n",
       "      <td>312</td>\n",
       "      <td>Oratório</td>\n",
       "      <td>NaN</td>\n",
       "      <td>Não identificado</td>\n",
       "      <td>05 Interiores &gt; 05.5 Peça de Mobiliário</td>\n",
       "      <td>Oratório do tipo vitrine, retangular, com pés ...</td>\n",
       "      <td>48,0</td>\n",
       "      <td>21,0</td>\n",
       "      <td>9,0</td>\n",
       "      <td>NaN</td>\n",
       "      <td>NaN</td>\n",
       "      <td>dourada | madeira entalhada | pedra sabão enta...</td>\n",
       "      <td>Brasil &gt; Minas Gerais</td>\n",
       "      <td>Século XVIII</td>\n",
       "      <td>museuregionaldecaete_-_acervo</td>\n",
       "      <td>https://museuregionaldecaete.acervos.museus.go...</td>\n",
       "      <td>848</td>\n",
       "    </tr>\n",
       "  </tbody>\n",
       "</table>\n",
       "</div>"
      ],
      "text/plain": [
       "   Número de registro Denominação Título             Autor  \\\n",
       "0                 312    Oratório    NaN  Não identificado   \n",
       "\n",
       "                             Classificação  \\\n",
       "0  05 Interiores > 05.5 Peça de Mobiliário   \n",
       "\n",
       "                                   Resumo descritivo Dimensões - altura  \\\n",
       "0  Oratório do tipo vitrine, retangular, com pés ...               48,0   \n",
       "\n",
       "  Dimensões - largura Dimensões - profundidade/comprimento  \\\n",
       "0               21,0                                   9,0   \n",
       "\n",
       "  Dimensões - diâmetro  Dimensões - peso  \\\n",
       "0                  NaN               NaN   \n",
       "\n",
       "                                    Material/Técnica      Local de produção  \\\n",
       "0  dourada | madeira entalhada | pedra sabão enta...  Brasil > Minas Gerais   \n",
       "\n",
       "  Data de produção                         ACERVO  \\\n",
       "0     Século XVIII  museuregionaldecaete_-_acervo   \n",
       "\n",
       "                                                 URL  TAINACAN_COLECTION_ID  \n",
       "0  https://museuregionaldecaete.acervos.museus.go...                    848  "
      ]
     },
     "metadata": {},
     "output_type": "display_data"
    },
    {
     "name": "stdout",
     "output_type": "stream",
     "text": [
      "(243, 17)\n",
      "./Acervos dos museus\\museuregionaldesaojoaodelrei_-_acervo_museologico.csv\n"
     ]
    },
    {
     "data": {
      "text/html": [
       "<div>\n",
       "<style scoped>\n",
       "    .dataframe tbody tr th:only-of-type {\n",
       "        vertical-align: middle;\n",
       "    }\n",
       "\n",
       "    .dataframe tbody tr th {\n",
       "        vertical-align: top;\n",
       "    }\n",
       "\n",
       "    .dataframe thead th {\n",
       "        text-align: right;\n",
       "    }\n",
       "</style>\n",
       "<table border=\"1\" class=\"dataframe\">\n",
       "  <thead>\n",
       "    <tr style=\"text-align: right;\">\n",
       "      <th></th>\n",
       "      <th>Número de registro</th>\n",
       "      <th>Denominação</th>\n",
       "      <th>Título</th>\n",
       "      <th>Autor</th>\n",
       "      <th>Classificação</th>\n",
       "      <th>Resumo descritivo</th>\n",
       "      <th>Dimensões - altura</th>\n",
       "      <th>Dimensões - largura</th>\n",
       "      <th>Dimensões - profundidade/comprimento</th>\n",
       "      <th>Dimensões - espessura</th>\n",
       "      <th>Dimensões - diâmetro</th>\n",
       "      <th>Dimensões - peso</th>\n",
       "      <th>Material/Técnica</th>\n",
       "      <th>Local de produção</th>\n",
       "      <th>Data de produção</th>\n",
       "      <th>ACERVO</th>\n",
       "      <th>URL</th>\n",
       "      <th>TAINACAN_COLECTION_ID</th>\n",
       "    </tr>\n",
       "  </thead>\n",
       "  <tbody>\n",
       "    <tr>\n",
       "      <th>0</th>\n",
       "      <td>1</td>\n",
       "      <td>Santa</td>\n",
       "      <td>Santa Maria Madalena</td>\n",
       "      <td>Não identificado</td>\n",
       "      <td>02 Artes Visuais/Cinematográfica &gt; 02.3 Escultura</td>\n",
       "      <td>Escultura religiosa, de grande porte, confecci...</td>\n",
       "      <td>157</td>\n",
       "      <td>77,5</td>\n",
       "      <td>53,5</td>\n",
       "      <td>NaN</td>\n",
       "      <td>NaN</td>\n",
       "      <td>NaN</td>\n",
       "      <td>Folha de Ouro | Madeira | Tinta</td>\n",
       "      <td>Brasil &gt; Minas Gerais</td>\n",
       "      <td>Século XVIII</td>\n",
       "      <td>museuregionaldesaojoaodelrei_-_acervo_museologico</td>\n",
       "      <td>https://museuregionaldesaojoaodelrei.acervos.m...</td>\n",
       "      <td>11451</td>\n",
       "    </tr>\n",
       "  </tbody>\n",
       "</table>\n",
       "</div>"
      ],
      "text/plain": [
       "   Número de registro Denominação                Título             Autor  \\\n",
       "0                   1       Santa  Santa Maria Madalena  Não identificado   \n",
       "\n",
       "                                       Classificação  \\\n",
       "0  02 Artes Visuais/Cinematográfica > 02.3 Escultura   \n",
       "\n",
       "                                   Resumo descritivo Dimensões - altura  \\\n",
       "0  Escultura religiosa, de grande porte, confecci...                157   \n",
       "\n",
       "  Dimensões - largura Dimensões - profundidade/comprimento  \\\n",
       "0                77,5                                 53,5   \n",
       "\n",
       "  Dimensões - espessura Dimensões - diâmetro Dimensões - peso  \\\n",
       "0                   NaN                  NaN              NaN   \n",
       "\n",
       "                  Material/Técnica      Local de produção Data de produção  \\\n",
       "0  Folha de Ouro | Madeira | Tinta  Brasil > Minas Gerais     Século XVIII   \n",
       "\n",
       "                                              ACERVO  \\\n",
       "0  museuregionaldesaojoaodelrei_-_acervo_museologico   \n",
       "\n",
       "                                                 URL  TAINACAN_COLECTION_ID  \n",
       "0  https://museuregionaldesaojoaodelrei.acervos.m...                  11451  "
      ]
     },
     "metadata": {},
     "output_type": "display_data"
    },
    {
     "name": "stdout",
     "output_type": "stream",
     "text": [
      "(328, 18)\n",
      "./Acervos dos museus\\museusibramgoias_-_museu-casa-da-boa-morte.csv\n"
     ]
    },
    {
     "data": {
      "text/html": [
       "<div>\n",
       "<style scoped>\n",
       "    .dataframe tbody tr th:only-of-type {\n",
       "        vertical-align: middle;\n",
       "    }\n",
       "\n",
       "    .dataframe tbody tr th {\n",
       "        vertical-align: top;\n",
       "    }\n",
       "\n",
       "    .dataframe thead th {\n",
       "        text-align: right;\n",
       "    }\n",
       "</style>\n",
       "<table border=\"1\" class=\"dataframe\">\n",
       "  <thead>\n",
       "    <tr style=\"text-align: right;\">\n",
       "      <th></th>\n",
       "      <th>Número de registro</th>\n",
       "      <th>Outros números</th>\n",
       "      <th>Situação</th>\n",
       "      <th>Denominação</th>\n",
       "      <th>Autor</th>\n",
       "      <th>Classificação</th>\n",
       "      <th>Resumo descritivo</th>\n",
       "      <th>Dimensões - altura</th>\n",
       "      <th>Dimensões - largura</th>\n",
       "      <th>Dimensões - profundidade/comprimento</th>\n",
       "      <th>Dimensões - diâmetro</th>\n",
       "      <th>Dimensões - peso</th>\n",
       "      <th>Material/Técnica</th>\n",
       "      <th>Local de produção</th>\n",
       "      <th>Data de produção</th>\n",
       "      <th>ACERVO</th>\n",
       "      <th>URL</th>\n",
       "      <th>TAINACAN_COLECTION_ID</th>\n",
       "    </tr>\n",
       "  </thead>\n",
       "  <tbody>\n",
       "    <tr>\n",
       "      <th>0</th>\n",
       "      <td>GO.99.029.393</td>\n",
       "      <td>87</td>\n",
       "      <td>Localizado</td>\n",
       "      <td>Santa Luzia</td>\n",
       "      <td>Não identificado</td>\n",
       "      <td>02 Artes Visuais/Cinematográfica &gt; 02.3 Escultura</td>\n",
       "      <td>Figura feminina de pé, cabeça levemente a dire...</td>\n",
       "      <td>0,73 m</td>\n",
       "      <td>0,3 m</td>\n",
       "      <td>NaN</td>\n",
       "      <td>0,38cm</td>\n",
       "      <td>NaN</td>\n",
       "      <td>Madeira</td>\n",
       "      <td>Não identificado</td>\n",
       "      <td>Século XIX</td>\n",
       "      <td>museusibramgoias_-_museu-casa-da-boa-morte</td>\n",
       "      <td>https://museusibramgoias.acervos.museus.gov.br...</td>\n",
       "      <td>3387</td>\n",
       "    </tr>\n",
       "  </tbody>\n",
       "</table>\n",
       "</div>"
      ],
      "text/plain": [
       "  Número de registro Outros números    Situação  Denominação  \\\n",
       "0      GO.99.029.393             87  Localizado  Santa Luzia   \n",
       "\n",
       "              Autor                                      Classificação  \\\n",
       "0  Não identificado  02 Artes Visuais/Cinematográfica > 02.3 Escultura   \n",
       "\n",
       "                                   Resumo descritivo Dimensões - altura  \\\n",
       "0  Figura feminina de pé, cabeça levemente a dire...             0,73 m   \n",
       "\n",
       "  Dimensões - largura Dimensões - profundidade/comprimento  \\\n",
       "0               0,3 m                                  NaN   \n",
       "\n",
       "  Dimensões - diâmetro Dimensões - peso Material/Técnica Local de produção  \\\n",
       "0               0,38cm              NaN          Madeira  Não identificado   \n",
       "\n",
       "  Data de produção                                      ACERVO  \\\n",
       "0       Século XIX  museusibramgoias_-_museu-casa-da-boa-morte   \n",
       "\n",
       "                                                 URL  TAINACAN_COLECTION_ID  \n",
       "0  https://museusibramgoias.acervos.museus.gov.br...                   3387  "
      ]
     },
     "metadata": {},
     "output_type": "display_data"
    },
    {
     "name": "stdout",
     "output_type": "stream",
     "text": [
      "(783, 18)\n",
      "./Acervos dos museus\\museusibramgoias_-_museu-casa-da-princesa.csv\n"
     ]
    },
    {
     "data": {
      "text/html": [
       "<div>\n",
       "<style scoped>\n",
       "    .dataframe tbody tr th:only-of-type {\n",
       "        vertical-align: middle;\n",
       "    }\n",
       "\n",
       "    .dataframe tbody tr th {\n",
       "        vertical-align: top;\n",
       "    }\n",
       "\n",
       "    .dataframe thead th {\n",
       "        text-align: right;\n",
       "    }\n",
       "</style>\n",
       "<table border=\"1\" class=\"dataframe\">\n",
       "  <thead>\n",
       "    <tr style=\"text-align: right;\">\n",
       "      <th></th>\n",
       "      <th>Número de registro</th>\n",
       "      <th>Outros números</th>\n",
       "      <th>Situação</th>\n",
       "      <th>Denominação</th>\n",
       "      <th>Título</th>\n",
       "      <th>Autor</th>\n",
       "      <th>Classificação</th>\n",
       "      <th>Resumo descritivo</th>\n",
       "      <th>Dimensões - altura</th>\n",
       "      <th>Dimensões - largura</th>\n",
       "      <th>Dimensões - profundidade/comprimento</th>\n",
       "      <th>Dimensões - diâmetro</th>\n",
       "      <th>Dimensões - peso</th>\n",
       "      <th>Material/Técnica</th>\n",
       "      <th>Local de produção</th>\n",
       "      <th>Data de produção</th>\n",
       "      <th>ACERVO</th>\n",
       "      <th>URL</th>\n",
       "      <th>TAINACAN_COLECTION_ID</th>\n",
       "    </tr>\n",
       "  </thead>\n",
       "  <tbody>\n",
       "    <tr>\n",
       "      <th>0</th>\n",
       "      <td>MCP0001</td>\n",
       "      <td>NaN</td>\n",
       "      <td>Localizado</td>\n",
       "      <td>Cadeira</td>\n",
       "      <td>NaN</td>\n",
       "      <td>Não identificado</td>\n",
       "      <td>05 Interiores &gt; 05.5 Peça de Mobiliário</td>\n",
       "      <td>Peça em madeira escura, envernizada. Assento q...</td>\n",
       "      <td>NaN</td>\n",
       "      <td>NaN</td>\n",
       "      <td>NaN</td>\n",
       "      <td>NaN</td>\n",
       "      <td>NaN</td>\n",
       "      <td>Madeira &gt; Madeira Torneada | Metal</td>\n",
       "      <td>Não identificado</td>\n",
       "      <td>Não identificada</td>\n",
       "      <td>museusibramgoias_-_museu-casa-da-princesa</td>\n",
       "      <td>https://museusibramgoias.acervos.museus.gov.br...</td>\n",
       "      <td>1227</td>\n",
       "    </tr>\n",
       "  </tbody>\n",
       "</table>\n",
       "</div>"
      ],
      "text/plain": [
       "  Número de registro Outros números    Situação Denominação Título  \\\n",
       "0            MCP0001            NaN  Localizado     Cadeira    NaN   \n",
       "\n",
       "              Autor                            Classificação  \\\n",
       "0  Não identificado  05 Interiores > 05.5 Peça de Mobiliário   \n",
       "\n",
       "                                   Resumo descritivo Dimensões - altura  \\\n",
       "0  Peça em madeira escura, envernizada. Assento q...                NaN   \n",
       "\n",
       "  Dimensões - largura  Dimensões - profundidade/comprimento  \\\n",
       "0                 NaN                                   NaN   \n",
       "\n",
       "  Dimensões - diâmetro Dimensões - peso                    Material/Técnica  \\\n",
       "0                  NaN              NaN  Madeira > Madeira Torneada | Metal   \n",
       "\n",
       "  Local de produção  Data de produção  \\\n",
       "0  Não identificado  Não identificada   \n",
       "\n",
       "                                      ACERVO  \\\n",
       "0  museusibramgoias_-_museu-casa-da-princesa   \n",
       "\n",
       "                                                 URL  TAINACAN_COLECTION_ID  \n",
       "0  https://museusibramgoias.acervos.museus.gov.br...                   1227  "
      ]
     },
     "metadata": {},
     "output_type": "display_data"
    },
    {
     "name": "stdout",
     "output_type": "stream",
     "text": [
      "(799, 19)\n",
      "./Acervos dos museus\\museusibramgoias_-_museu-das-bandeiras.csv\n"
     ]
    },
    {
     "data": {
      "text/html": [
       "<div>\n",
       "<style scoped>\n",
       "    .dataframe tbody tr th:only-of-type {\n",
       "        vertical-align: middle;\n",
       "    }\n",
       "\n",
       "    .dataframe tbody tr th {\n",
       "        vertical-align: top;\n",
       "    }\n",
       "\n",
       "    .dataframe thead th {\n",
       "        text-align: right;\n",
       "    }\n",
       "</style>\n",
       "<table border=\"1\" class=\"dataframe\">\n",
       "  <thead>\n",
       "    <tr style=\"text-align: right;\">\n",
       "      <th></th>\n",
       "      <th>Número de registro</th>\n",
       "      <th>Outros números</th>\n",
       "      <th>Situação</th>\n",
       "      <th>Denominação</th>\n",
       "      <th>Título</th>\n",
       "      <th>Autor</th>\n",
       "      <th>Classificação</th>\n",
       "      <th>Resumo descritivo</th>\n",
       "      <th>Dimensões - altura</th>\n",
       "      <th>Dimensões - largura</th>\n",
       "      <th>Dimensões - profundidade/comprimento</th>\n",
       "      <th>Dimensões - diâmetro</th>\n",
       "      <th>Dimensões - peso</th>\n",
       "      <th>Material/Técnica</th>\n",
       "      <th>Local de produção</th>\n",
       "      <th>Data de produção</th>\n",
       "      <th>ACERVO</th>\n",
       "      <th>URL</th>\n",
       "      <th>TAINACAN_COLECTION_ID</th>\n",
       "    </tr>\n",
       "  </thead>\n",
       "  <tbody>\n",
       "    <tr>\n",
       "      <th>0</th>\n",
       "      <td>52.001.I/030.002</td>\n",
       "      <td>NaN</td>\n",
       "      <td>Localizado</td>\n",
       "      <td>Peso</td>\n",
       "      <td>Peso Monetário</td>\n",
       "      <td>Não identificado</td>\n",
       "      <td>14 Medição/Registro/Observação/Processamento &gt;...</td>\n",
       "      <td>Cone truncado com frisos incisos no interior.</td>\n",
       "      <td>03 (maior)</td>\n",
       "      <td>NaN</td>\n",
       "      <td>NaN</td>\n",
       "      <td>05 e 03 (maior e menor)</td>\n",
       "      <td>NaN</td>\n",
       "      <td>Metal &gt; Bronze</td>\n",
       "      <td>Não identificado</td>\n",
       "      <td>Século XVIII</td>\n",
       "      <td>museusibramgoias_-_museu-das-bandeiras</td>\n",
       "      <td>https://museusibramgoias.acervos.museus.gov.br...</td>\n",
       "      <td>1093</td>\n",
       "    </tr>\n",
       "  </tbody>\n",
       "</table>\n",
       "</div>"
      ],
      "text/plain": [
       "  Número de registro Outros números    Situação Denominação          Título  \\\n",
       "0   52.001.I/030.002            NaN  Localizado        Peso  Peso Monetário   \n",
       "\n",
       "              Autor                                      Classificação  \\\n",
       "0  Não identificado  14 Medição/Registro/Observação/Processamento >...   \n",
       "\n",
       "                               Resumo descritivo Dimensões - altura  \\\n",
       "0  Cone truncado com frisos incisos no interior.         03 (maior)   \n",
       "\n",
       "  Dimensões - largura Dimensões - profundidade/comprimento  \\\n",
       "0                 NaN                                  NaN   \n",
       "\n",
       "      Dimensões - diâmetro Dimensões - peso Material/Técnica  \\\n",
       "0  05 e 03 (maior e menor)              NaN   Metal > Bronze   \n",
       "\n",
       "  Local de produção Data de produção                                  ACERVO  \\\n",
       "0  Não identificado     Século XVIII  museusibramgoias_-_museu-das-bandeiras   \n",
       "\n",
       "                                                 URL  TAINACAN_COLECTION_ID  \n",
       "0  https://museusibramgoias.acervos.museus.gov.br...                   1093  "
      ]
     },
     "metadata": {},
     "output_type": "display_data"
    },
    {
     "name": "stdout",
     "output_type": "stream",
     "text": [
      "(401, 19)\n",
      "./Acervos dos museus\\museusolarmonjardim_-_acervo.csv\n"
     ]
    },
    {
     "data": {
      "text/html": [
       "<div>\n",
       "<style scoped>\n",
       "    .dataframe tbody tr th:only-of-type {\n",
       "        vertical-align: middle;\n",
       "    }\n",
       "\n",
       "    .dataframe tbody tr th {\n",
       "        vertical-align: top;\n",
       "    }\n",
       "\n",
       "    .dataframe thead th {\n",
       "        text-align: right;\n",
       "    }\n",
       "</style>\n",
       "<table border=\"1\" class=\"dataframe\">\n",
       "  <thead>\n",
       "    <tr style=\"text-align: right;\">\n",
       "      <th></th>\n",
       "      <th>Número de registro</th>\n",
       "      <th>Denominação</th>\n",
       "      <th>Título</th>\n",
       "      <th>Autor</th>\n",
       "      <th>Resumo descritivo</th>\n",
       "      <th>Local de produção</th>\n",
       "      <th>Classificação</th>\n",
       "      <th>Material/Técnica</th>\n",
       "      <th>Dimensões - altura</th>\n",
       "      <th>Dimensões - largura</th>\n",
       "      <th>Dimensões - profundidade/comprimento</th>\n",
       "      <th>ACERVO</th>\n",
       "      <th>URL</th>\n",
       "      <th>TAINACAN_COLECTION_ID</th>\n",
       "    </tr>\n",
       "  </thead>\n",
       "  <tbody>\n",
       "    <tr>\n",
       "      <th>0</th>\n",
       "      <td>1</td>\n",
       "      <td>Figura de anjo</td>\n",
       "      <td>Anjo</td>\n",
       "      <td>Não identificado</td>\n",
       "      <td>Figura masculina de anjo, nua, de pé, com a ca...</td>\n",
       "      <td>Não identificado</td>\n",
       "      <td>02 Artes Visuais/Cinematográfica &gt; 02.3 Escultura</td>\n",
       "      <td>madeira | madeira policromada</td>\n",
       "      <td>44 cm</td>\n",
       "      <td>36</td>\n",
       "      <td>17,5</td>\n",
       "      <td>museusolarmonjardim_-_acervo</td>\n",
       "      <td>https://museusolarmonjardim.acervos.museus.gov...</td>\n",
       "      <td>109360</td>\n",
       "    </tr>\n",
       "  </tbody>\n",
       "</table>\n",
       "</div>"
      ],
      "text/plain": [
       "  Número de registro     Denominação Título             Autor  \\\n",
       "0                  1  Figura de anjo   Anjo  Não identificado   \n",
       "\n",
       "                                   Resumo descritivo Local de produção  \\\n",
       "0  Figura masculina de anjo, nua, de pé, com a ca...  Não identificado   \n",
       "\n",
       "                                       Classificação  \\\n",
       "0  02 Artes Visuais/Cinematográfica > 02.3 Escultura   \n",
       "\n",
       "                Material/Técnica Dimensões - altura Dimensões - largura  \\\n",
       "0  madeira | madeira policromada              44 cm                  36   \n",
       "\n",
       "  Dimensões - profundidade/comprimento                        ACERVO  \\\n",
       "0                                 17,5  museusolarmonjardim_-_acervo   \n",
       "\n",
       "                                                 URL  TAINACAN_COLECTION_ID  \n",
       "0  https://museusolarmonjardim.acervos.museus.gov...                 109360  "
      ]
     },
     "metadata": {},
     "output_type": "display_data"
    },
    {
     "name": "stdout",
     "output_type": "stream",
     "text": [
      "(77, 14)\n",
      "./Acervos dos museus\\museusolarmonjardim_-_documentos-historicos.csv\n"
     ]
    },
    {
     "data": {
      "text/html": [
       "<div>\n",
       "<style scoped>\n",
       "    .dataframe tbody tr th:only-of-type {\n",
       "        vertical-align: middle;\n",
       "    }\n",
       "\n",
       "    .dataframe tbody tr th {\n",
       "        vertical-align: top;\n",
       "    }\n",
       "\n",
       "    .dataframe thead th {\n",
       "        text-align: right;\n",
       "    }\n",
       "</style>\n",
       "<table border=\"1\" class=\"dataframe\">\n",
       "  <thead>\n",
       "    <tr style=\"text-align: right;\">\n",
       "      <th></th>\n",
       "      <th>Número</th>\n",
       "      <th>Coleção</th>\n",
       "      <th>Título</th>\n",
       "      <th>Procedência</th>\n",
       "      <th>Data</th>\n",
       "      <th>Ano</th>\n",
       "      <th>Material/Técnica</th>\n",
       "      <th>Objeto</th>\n",
       "      <th>Dimensões</th>\n",
       "      <th>Descrição</th>\n",
       "      <th>Autor</th>\n",
       "      <th>ACERVO</th>\n",
       "      <th>URL</th>\n",
       "      <th>TAINACAN_COLECTION_ID</th>\n",
       "    </tr>\n",
       "  </thead>\n",
       "  <tbody>\n",
       "    <tr>\n",
       "      <th>0</th>\n",
       "      <td>1591</td>\n",
       "      <td>Documentos Históricos</td>\n",
       "      <td>Apólice da Divida Pública</td>\n",
       "      <td>Alice Proença Monjardim</td>\n",
       "      <td>22/05/1925</td>\n",
       "      <td>1925.0</td>\n",
       "      <td>Impressão</td>\n",
       "      <td>Objetos Pecuniários</td>\n",
       "      <td>36 x 25,3 cm</td>\n",
       "      <td>Apólice da Divida Pública do Estado do Espírit...</td>\n",
       "      <td>Governo do Estado do Espírito Santo</td>\n",
       "      <td>museusolarmonjardim_-_documentos-historicos</td>\n",
       "      <td>https://museusolarmonjardim.acervos.museus.gov...</td>\n",
       "      <td>31273</td>\n",
       "    </tr>\n",
       "  </tbody>\n",
       "</table>\n",
       "</div>"
      ],
      "text/plain": [
       "   Número                Coleção                     Título  \\\n",
       "0    1591  Documentos Históricos  Apólice da Divida Pública   \n",
       "\n",
       "               Procedência        Data     Ano Material/Técnica  \\\n",
       "0  Alice Proença Monjardim  22/05/1925  1925.0        Impressão   \n",
       "\n",
       "                Objeto     Dimensões  \\\n",
       "0  Objetos Pecuniários  36 x 25,3 cm   \n",
       "\n",
       "                                           Descrição  \\\n",
       "0  Apólice da Divida Pública do Estado do Espírit...   \n",
       "\n",
       "                                 Autor  \\\n",
       "0  Governo do Estado do Espírito Santo   \n",
       "\n",
       "                                        ACERVO  \\\n",
       "0  museusolarmonjardim_-_documentos-historicos   \n",
       "\n",
       "                                                 URL  TAINACAN_COLECTION_ID  \n",
       "0  https://museusolarmonjardim.acervos.museus.gov...                  31273  "
      ]
     },
     "metadata": {},
     "output_type": "display_data"
    },
    {
     "name": "stdout",
     "output_type": "stream",
     "text": [
      "(1750, 14)\n",
      "./Acervos dos museus\\museuvictormeirelles_-_mvm-acervo.csv\n"
     ]
    },
    {
     "data": {
      "text/html": [
       "<div>\n",
       "<style scoped>\n",
       "    .dataframe tbody tr th:only-of-type {\n",
       "        vertical-align: middle;\n",
       "    }\n",
       "\n",
       "    .dataframe tbody tr th {\n",
       "        vertical-align: top;\n",
       "    }\n",
       "\n",
       "    .dataframe thead th {\n",
       "        text-align: right;\n",
       "    }\n",
       "</style>\n",
       "<table border=\"1\" class=\"dataframe\">\n",
       "  <thead>\n",
       "    <tr style=\"text-align: right;\">\n",
       "      <th></th>\n",
       "      <th>Classificação</th>\n",
       "      <th>Denominação</th>\n",
       "      <th>Título</th>\n",
       "      <th>Autor</th>\n",
       "      <th>Local de produção</th>\n",
       "      <th>Data de produção</th>\n",
       "      <th>Material/Técnica</th>\n",
       "      <th>Dimensões</th>\n",
       "      <th>Estado de conservação</th>\n",
       "      <th>Resumo descritivo</th>\n",
       "      <th>Mídias relacionadas</th>\n",
       "      <th>Condições de reprodução</th>\n",
       "      <th>ACERVO</th>\n",
       "      <th>URL</th>\n",
       "      <th>TAINACAN_COLECTION_ID</th>\n",
       "    </tr>\n",
       "  </thead>\n",
       "  <tbody>\n",
       "    <tr>\n",
       "      <th>0</th>\n",
       "      <td>02 Artes Visuais/Cinematográfica &gt; 02.2 Desenho</td>\n",
       "      <td>Desenho</td>\n",
       "      <td>Vista de Ronciglione</td>\n",
       "      <td>Victor Meirelles de Lima</td>\n",
       "      <td>Itália</td>\n",
       "      <td>1853/1856 (circa)</td>\n",
       "      <td>Grafite sobre papel</td>\n",
       "      <td>Obra: 28,7 x 44,0 cm Passe-partout: *Obra enca...</td>\n",
       "      <td>Bom</td>\n",
       "      <td>Agrupamento de edificações sobre um morrote. N...</td>\n",
       "      <td>NaN</td>\n",
       "      <td>NaN</td>\n",
       "      <td>museuvictormeirelles_-_mvm-acervo</td>\n",
       "      <td>https://museuvictormeirelles.acervos.museus.go...</td>\n",
       "      <td>18004</td>\n",
       "    </tr>\n",
       "  </tbody>\n",
       "</table>\n",
       "</div>"
      ],
      "text/plain": [
       "                                     Classificação Denominação  \\\n",
       "0  02 Artes Visuais/Cinematográfica > 02.2 Desenho     Desenho   \n",
       "\n",
       "                 Título                     Autor Local de produção  \\\n",
       "0  Vista de Ronciglione  Victor Meirelles de Lima            Itália   \n",
       "\n",
       "    Data de produção     Material/Técnica  \\\n",
       "0  1853/1856 (circa)  Grafite sobre papel   \n",
       "\n",
       "                                           Dimensões Estado de conservação  \\\n",
       "0  Obra: 28,7 x 44,0 cm Passe-partout: *Obra enca...                   Bom   \n",
       "\n",
       "                                   Resumo descritivo  Mídias relacionadas  \\\n",
       "0  Agrupamento de edificações sobre um morrote. N...                  NaN   \n",
       "\n",
       "   Condições de reprodução                             ACERVO  \\\n",
       "0                      NaN  museuvictormeirelles_-_mvm-acervo   \n",
       "\n",
       "                                                 URL  TAINACAN_COLECTION_ID  \n",
       "0  https://museuvictormeirelles.acervos.museus.go...                  18004  "
      ]
     },
     "metadata": {},
     "output_type": "display_data"
    },
    {
     "name": "stdout",
     "output_type": "stream",
     "text": [
      "(237, 15)\n",
      "./Acervos dos museus\\museuvillalobos_-_fotografias.csv\n"
     ]
    },
    {
     "data": {
      "text/html": [
       "<div>\n",
       "<style scoped>\n",
       "    .dataframe tbody tr th:only-of-type {\n",
       "        vertical-align: middle;\n",
       "    }\n",
       "\n",
       "    .dataframe tbody tr th {\n",
       "        vertical-align: top;\n",
       "    }\n",
       "\n",
       "    .dataframe thead th {\n",
       "        text-align: right;\n",
       "    }\n",
       "</style>\n",
       "<table border=\"1\" class=\"dataframe\">\n",
       "  <thead>\n",
       "    <tr style=\"text-align: right;\">\n",
       "      <th></th>\n",
       "      <th>Número de registro</th>\n",
       "      <th>Denominação</th>\n",
       "      <th>Título</th>\n",
       "      <th>Autor</th>\n",
       "      <th>Classificação</th>\n",
       "      <th>Resumo descritivo</th>\n",
       "      <th>Dimensões</th>\n",
       "      <th>Material/Técnica</th>\n",
       "      <th>Data de produção</th>\n",
       "      <th>Local de produção</th>\n",
       "      <th>Estado de conservação</th>\n",
       "      <th>Condições de reprodução</th>\n",
       "      <th>ACERVO</th>\n",
       "      <th>URL</th>\n",
       "      <th>TAINACAN_COLECTION_ID</th>\n",
       "    </tr>\n",
       "  </thead>\n",
       "  <tbody>\n",
       "    <tr>\n",
       "      <th>0</th>\n",
       "      <td>1977.16.108</td>\n",
       "      <td>Fotografia</td>\n",
       "      <td>Villa-Lobos e Arminda</td>\n",
       "      <td>Não identificado</td>\n",
       "      <td>10 Comunicação &gt; 10.1 Documento</td>\n",
       "      <td>Com a dedicatória: “À nossa muito querida e sa...</td>\n",
       "      <td>NaN</td>\n",
       "      <td>Fotografia em preto e branco; papel</td>\n",
       "      <td>18/04/1952</td>\n",
       "      <td>França &gt; Paris</td>\n",
       "      <td>Bom</td>\n",
       "      <td>NaN</td>\n",
       "      <td>museuvillalobos_-_fotografias</td>\n",
       "      <td>https://museuvillalobos.acervos.museus.gov.br/...</td>\n",
       "      <td>1570</td>\n",
       "    </tr>\n",
       "  </tbody>\n",
       "</table>\n",
       "</div>"
      ],
      "text/plain": [
       "  Número de registro Denominação                 Título             Autor  \\\n",
       "0        1977.16.108  Fotografia  Villa-Lobos e Arminda  Não identificado   \n",
       "\n",
       "                     Classificação  \\\n",
       "0  10 Comunicação > 10.1 Documento   \n",
       "\n",
       "                                   Resumo descritivo  Dimensões  \\\n",
       "0  Com a dedicatória: “À nossa muito querida e sa...        NaN   \n",
       "\n",
       "                      Material/Técnica Data de produção Local de produção  \\\n",
       "0  Fotografia em preto e branco; papel       18/04/1952    França > Paris   \n",
       "\n",
       "  Estado de conservação  Condições de reprodução  \\\n",
       "0                   Bom                      NaN   \n",
       "\n",
       "                          ACERVO  \\\n",
       "0  museuvillalobos_-_fotografias   \n",
       "\n",
       "                                                 URL  TAINACAN_COLECTION_ID  \n",
       "0  https://museuvillalobos.acervos.museus.gov.br/...                   1570  "
      ]
     },
     "metadata": {},
     "output_type": "display_data"
    },
    {
     "name": "stdout",
     "output_type": "stream",
     "text": [
      "(1812, 15)\n",
      "\n",
      " 23  acervos processados.\n"
     ]
    }
   ],
   "source": [
    "list_files = glob(\"./Acervos dos museus/*.csv\")\n",
    "\n",
    "headers = []\n",
    "counter = 0\n",
    "\n",
    "print(\"Processando arquivos...\")\n",
    "\n",
    "for file in list_files:\n",
    "    counter = counter + 1\n",
    "    \n",
    "    temp = pd.read_csv(file, index_col=0)\n",
    "    temp_headers = temp.columns.values.tolist()\n",
    "    headers.append(temp_headers)\n",
    "    \n",
    "    temp_headers = []\n",
    "    print(file)\n",
    "    display(temp.head(1))\n",
    "    print(temp.shape)\n",
    "    temp = []\n",
    "print(\"\\n\",counter, \" acervos processados.\")"
   ]
  },
  {
   "cell_type": "code",
   "execution_count": 64,
   "id": "8697bebf",
   "metadata": {},
   "outputs": [
    {
     "name": "stdout",
     "output_type": "stream",
     "text": [
      "Contagem dos cabeçalhos apresentados:\n",
      "\n",
      "Counter({'Material/Técnica': 23, 'ACERVO': 23, 'URL': 23, 'TAINACAN_COLECTION_ID': 23, 'Classificação': 22, 'Autor': 22, 'Resumo descritivo': 21, 'Local de produção': 21, 'Data de produção': 21, 'Denominação': 20, 'Título': 20, 'Número de registro': 19, 'Dimensões - altura': 15, 'Dimensões - largura': 15, 'Dimensões - profundidade/comprimento': 14, 'Dimensões - diâmetro': 13, 'Dimensões - peso': 13, 'Condições de reprodução': 13, 'Outros números': 7, 'Dimensões - espessura': 7, 'Estado de conservação': 6, 'Situação': 5, 'Dimensões': 5, 'Mídias relacionadas': 4, 'Número': 1, 'Coleção': 1, 'Procedência': 1, 'Data': 1, 'Ano': 1, 'Objeto': 1, 'Descrição': 1})\n"
     ]
    }
   ],
   "source": [
    "headers_tratado = list(itertools.chain(*headers))\n",
    "counter=collections.Counter(headers_tratado)\n",
    "print(\"Contagem dos cabeçalhos apresentados:\\n\")\n",
    "print(counter)"
   ]
  },
  {
   "cell_type": "code",
   "execution_count": 65,
   "id": "f54b17e7",
   "metadata": {},
   "outputs": [
    {
     "name": "stdout",
     "output_type": "stream",
     "text": [
      "Realizando dataprofiling das bases...\n",
      "\n",
      "mhn_-_moedas-de-ouro iniciado\n"
     ]
    },
    {
     "data": {
      "application/vnd.jupyter.widget-view+json": {
       "model_id": "99c7ac60f31b49aba8bb8b3b7bad32a2",
       "version_major": 2,
       "version_minor": 0
      },
      "text/plain": [
       "Summarize dataset:   0%|          | 0/5 [00:00<?, ?it/s]"
      ]
     },
     "metadata": {},
     "output_type": "display_data"
    },
    {
     "data": {
      "application/vnd.jupyter.widget-view+json": {
       "model_id": "11b7ca0cd8fe4a5299e3ee2a6f6bd9e6",
       "version_major": 2,
       "version_minor": 0
      },
      "text/plain": [
       "Generate report structure:   0%|          | 0/1 [00:00<?, ?it/s]"
      ]
     },
     "metadata": {},
     "output_type": "display_data"
    },
    {
     "data": {
      "application/vnd.jupyter.widget-view+json": {
       "model_id": "2047b8880f15413181d869b61977b760",
       "version_major": 2,
       "version_minor": 0
      },
      "text/plain": [
       "Render HTML:   0%|          | 0/1 [00:00<?, ?it/s]"
      ]
     },
     "metadata": {},
     "output_type": "display_data"
    },
    {
     "data": {
      "application/vnd.jupyter.widget-view+json": {
       "model_id": "f488e0092952400ebdccfa129fd89750",
       "version_major": 2,
       "version_minor": 0
      },
      "text/plain": [
       "Export report to file:   0%|          | 0/1 [00:00<?, ?it/s]"
      ]
     },
     "metadata": {},
     "output_type": "display_data"
    },
    {
     "name": "stdout",
     "output_type": "stream",
     "text": [
      "mhn_-_moedas-de-ouro concluído em  0.22 segundos.\n",
      "\n",
      "mhn_-_reserva-tecnica iniciado\n"
     ]
    },
    {
     "data": {
      "application/vnd.jupyter.widget-view+json": {
       "model_id": "2328ff8acb714f8bb666f33a36dcc020",
       "version_major": 2,
       "version_minor": 0
      },
      "text/plain": [
       "Summarize dataset:   0%|          | 0/5 [00:00<?, ?it/s]"
      ]
     },
     "metadata": {},
     "output_type": "display_data"
    },
    {
     "name": "stderr",
     "output_type": "stream",
     "text": [
      "C:\\ProgramData\\Anaconda3\\lib\\site-packages\\pandas_profiling\\model\\correlations.py:55: UserWarning: There was an attempt to calculate the cramers correlation, but this failed.\n",
      "To hide this warning, disable the calculation\n",
      "(using `df.profile_report(correlations={\"cramers\": {\"calculate\": False}})`\n",
      "If this is problematic for your use case, please report this as an issue:\n",
      "https://github.com/pandas-profiling/pandas-profiling/issues\n",
      "(include the error message: 'No data; `observed` has size 0.')\n",
      "  warnings.warn(\n"
     ]
    },
    {
     "data": {
      "application/vnd.jupyter.widget-view+json": {
       "model_id": "94126d0caa2a41c3961e2f9d74368d14",
       "version_major": 2,
       "version_minor": 0
      },
      "text/plain": [
       "Generate report structure:   0%|          | 0/1 [00:00<?, ?it/s]"
      ]
     },
     "metadata": {},
     "output_type": "display_data"
    },
    {
     "data": {
      "application/vnd.jupyter.widget-view+json": {
       "model_id": "8911895720ae4fa486882eae61501977",
       "version_major": 2,
       "version_minor": 0
      },
      "text/plain": [
       "Render HTML:   0%|          | 0/1 [00:00<?, ?it/s]"
      ]
     },
     "metadata": {},
     "output_type": "display_data"
    },
    {
     "data": {
      "application/vnd.jupyter.widget-view+json": {
       "model_id": "0bdbe47bb5724bf6988f14912db21099",
       "version_major": 2,
       "version_minor": 0
      },
      "text/plain": [
       "Export report to file:   0%|          | 0/1 [00:00<?, ?it/s]"
      ]
     },
     "metadata": {},
     "output_type": "display_data"
    },
    {
     "name": "stdout",
     "output_type": "stream",
     "text": [
      "mhn_-_reserva-tecnica concluído em  0.24 segundos.\n",
      "\n",
      "museucasabenjaminconstant_-_acervo-museologico iniciado\n"
     ]
    },
    {
     "data": {
      "application/vnd.jupyter.widget-view+json": {
       "model_id": "e3a3515cd002479dba1a6bd6b8b9e9f0",
       "version_major": 2,
       "version_minor": 0
      },
      "text/plain": [
       "Summarize dataset:   0%|          | 0/5 [00:00<?, ?it/s]"
      ]
     },
     "metadata": {},
     "output_type": "display_data"
    },
    {
     "data": {
      "application/vnd.jupyter.widget-view+json": {
       "model_id": "b7cb6edac02743d7bc49684bc4de4f2f",
       "version_major": 2,
       "version_minor": 0
      },
      "text/plain": [
       "Generate report structure:   0%|          | 0/1 [00:00<?, ?it/s]"
      ]
     },
     "metadata": {},
     "output_type": "display_data"
    },
    {
     "data": {
      "application/vnd.jupyter.widget-view+json": {
       "model_id": "97999fb25cf14bf6a6f0397842414cd9",
       "version_major": 2,
       "version_minor": 0
      },
      "text/plain": [
       "Render HTML:   0%|          | 0/1 [00:00<?, ?it/s]"
      ]
     },
     "metadata": {},
     "output_type": "display_data"
    },
    {
     "data": {
      "application/vnd.jupyter.widget-view+json": {
       "model_id": "2fd1069d30f94cadb420e63edbb1114e",
       "version_major": 2,
       "version_minor": 0
      },
      "text/plain": [
       "Export report to file:   0%|          | 0/1 [00:00<?, ?it/s]"
      ]
     },
     "metadata": {},
     "output_type": "display_data"
    },
    {
     "name": "stdout",
     "output_type": "stream",
     "text": [
      "museucasabenjaminconstant_-_acervo-museologico concluído em  0.15 segundos.\n",
      "\n",
      "museucasadahera_-_acervo-museologico iniciado\n"
     ]
    },
    {
     "data": {
      "application/vnd.jupyter.widget-view+json": {
       "model_id": "94ec76ac17c04daabd067c4e43c3f4e8",
       "version_major": 2,
       "version_minor": 0
      },
      "text/plain": [
       "Summarize dataset:   0%|          | 0/5 [00:00<?, ?it/s]"
      ]
     },
     "metadata": {},
     "output_type": "display_data"
    },
    {
     "data": {
      "application/vnd.jupyter.widget-view+json": {
       "model_id": "545543dcdb724efa8e837cbaeaa238c2",
       "version_major": 2,
       "version_minor": 0
      },
      "text/plain": [
       "Generate report structure:   0%|          | 0/1 [00:00<?, ?it/s]"
      ]
     },
     "metadata": {},
     "output_type": "display_data"
    },
    {
     "data": {
      "application/vnd.jupyter.widget-view+json": {
       "model_id": "b0a9571e32b447d48920fad11b671047",
       "version_major": 2,
       "version_minor": 0
      },
      "text/plain": [
       "Render HTML:   0%|          | 0/1 [00:00<?, ?it/s]"
      ]
     },
     "metadata": {},
     "output_type": "display_data"
    },
    {
     "data": {
      "application/vnd.jupyter.widget-view+json": {
       "model_id": "595abf129dd04ade807a3935dc785991",
       "version_major": 2,
       "version_minor": 0
      },
      "text/plain": [
       "Export report to file:   0%|          | 0/1 [00:00<?, ?it/s]"
      ]
     },
     "metadata": {},
     "output_type": "display_data"
    },
    {
     "name": "stdout",
     "output_type": "stream",
     "text": [
      "museucasadahera_-_acervo-museologico concluído em  0.13 segundos.\n",
      "\n",
      "museucasadahera_-_indumentaria iniciado\n"
     ]
    },
    {
     "data": {
      "application/vnd.jupyter.widget-view+json": {
       "model_id": "49b55d2fe582416e807f6bd041ff16c0",
       "version_major": 2,
       "version_minor": 0
      },
      "text/plain": [
       "Summarize dataset:   0%|          | 0/5 [00:00<?, ?it/s]"
      ]
     },
     "metadata": {},
     "output_type": "display_data"
    },
    {
     "data": {
      "application/vnd.jupyter.widget-view+json": {
       "model_id": "ee6c1f60e56f42cf8ca51a484efbbd71",
       "version_major": 2,
       "version_minor": 0
      },
      "text/plain": [
       "Generate report structure:   0%|          | 0/1 [00:00<?, ?it/s]"
      ]
     },
     "metadata": {},
     "output_type": "display_data"
    },
    {
     "data": {
      "application/vnd.jupyter.widget-view+json": {
       "model_id": "dc33203eb1f9480380dba40b8e93d3fa",
       "version_major": 2,
       "version_minor": 0
      },
      "text/plain": [
       "Render HTML:   0%|          | 0/1 [00:00<?, ?it/s]"
      ]
     },
     "metadata": {},
     "output_type": "display_data"
    },
    {
     "data": {
      "application/vnd.jupyter.widget-view+json": {
       "model_id": "3dccf2f0c8df4c4e95b330aa12b153ee",
       "version_major": 2,
       "version_minor": 0
      },
      "text/plain": [
       "Export report to file:   0%|          | 0/1 [00:00<?, ?it/s]"
      ]
     },
     "metadata": {},
     "output_type": "display_data"
    },
    {
     "name": "stdout",
     "output_type": "stream",
     "text": [
      "museucasadahera_-_indumentaria concluído em  0.12 segundos.\n",
      "\n",
      "museucasahistoricadealcantara_-_objetos iniciado\n"
     ]
    },
    {
     "data": {
      "application/vnd.jupyter.widget-view+json": {
       "model_id": "ccd7a066361b42eea351d78af9cf248f",
       "version_major": 2,
       "version_minor": 0
      },
      "text/plain": [
       "Summarize dataset:   0%|          | 0/5 [00:00<?, ?it/s]"
      ]
     },
     "metadata": {},
     "output_type": "display_data"
    },
    {
     "name": "stderr",
     "output_type": "stream",
     "text": [
      "C:\\ProgramData\\Anaconda3\\lib\\site-packages\\pandas_profiling\\model\\correlations.py:55: UserWarning: There was an attempt to calculate the cramers correlation, but this failed.\n",
      "To hide this warning, disable the calculation\n",
      "(using `df.profile_report(correlations={\"cramers\": {\"calculate\": False}})`\n",
      "If this is problematic for your use case, please report this as an issue:\n",
      "https://github.com/pandas-profiling/pandas-profiling/issues\n",
      "(include the error message: 'No data; `observed` has size 0.')\n",
      "  warnings.warn(\n"
     ]
    },
    {
     "data": {
      "application/vnd.jupyter.widget-view+json": {
       "model_id": "d9f506e6dfb841c08be7a1a7577f46d7",
       "version_major": 2,
       "version_minor": 0
      },
      "text/plain": [
       "Generate report structure:   0%|          | 0/1 [00:00<?, ?it/s]"
      ]
     },
     "metadata": {},
     "output_type": "display_data"
    },
    {
     "data": {
      "application/vnd.jupyter.widget-view+json": {
       "model_id": "d9f6d970b9914029b2d07a5524bd79d1",
       "version_major": 2,
       "version_minor": 0
      },
      "text/plain": [
       "Render HTML:   0%|          | 0/1 [00:00<?, ?it/s]"
      ]
     },
     "metadata": {},
     "output_type": "display_data"
    },
    {
     "data": {
      "application/vnd.jupyter.widget-view+json": {
       "model_id": "b1bf82c720714d74ab3ec67f81caf9ea",
       "version_major": 2,
       "version_minor": 0
      },
      "text/plain": [
       "Export report to file:   0%|          | 0/1 [00:00<?, ?it/s]"
      ]
     },
     "metadata": {},
     "output_type": "display_data"
    },
    {
     "name": "stdout",
     "output_type": "stream",
     "text": [
      "museucasahistoricadealcantara_-_objetos concluído em  0.14 segundos.\n",
      "\n",
      "museudaabolicao_-_acervo_museologico iniciado\n"
     ]
    },
    {
     "data": {
      "application/vnd.jupyter.widget-view+json": {
       "model_id": "0c6363a884c44e9f81b50562252a9c9d",
       "version_major": 2,
       "version_minor": 0
      },
      "text/plain": [
       "Summarize dataset:   0%|          | 0/5 [00:00<?, ?it/s]"
      ]
     },
     "metadata": {},
     "output_type": "display_data"
    },
    {
     "data": {
      "application/vnd.jupyter.widget-view+json": {
       "model_id": "4ba0b43dcc3d49dd893090a3aa6db729",
       "version_major": 2,
       "version_minor": 0
      },
      "text/plain": [
       "Generate report structure:   0%|          | 0/1 [00:00<?, ?it/s]"
      ]
     },
     "metadata": {},
     "output_type": "display_data"
    },
    {
     "data": {
      "application/vnd.jupyter.widget-view+json": {
       "model_id": "8a9f314eee0d4902a719e97a0347b09b",
       "version_major": 2,
       "version_minor": 0
      },
      "text/plain": [
       "Render HTML:   0%|          | 0/1 [00:00<?, ?it/s]"
      ]
     },
     "metadata": {},
     "output_type": "display_data"
    },
    {
     "data": {
      "application/vnd.jupyter.widget-view+json": {
       "model_id": "6690c74c5b184005a787c9a30d7fccef",
       "version_major": 2,
       "version_minor": 0
      },
      "text/plain": [
       "Export report to file:   0%|          | 0/1 [00:00<?, ?it/s]"
      ]
     },
     "metadata": {},
     "output_type": "display_data"
    },
    {
     "name": "stdout",
     "output_type": "stream",
     "text": [
      "museudaabolicao_-_acervo_museologico concluído em  0.2 segundos.\n",
      "\n",
      "museudainconfidencia_-_acervo-museologico iniciado\n"
     ]
    },
    {
     "data": {
      "application/vnd.jupyter.widget-view+json": {
       "model_id": "37d89227b0664b25a1e0a3e39325e2c6",
       "version_major": 2,
       "version_minor": 0
      },
      "text/plain": [
       "Summarize dataset:   0%|          | 0/5 [00:00<?, ?it/s]"
      ]
     },
     "metadata": {},
     "output_type": "display_data"
    },
    {
     "data": {
      "application/vnd.jupyter.widget-view+json": {
       "model_id": "af0eef15220641929b5a1faaa824865b",
       "version_major": 2,
       "version_minor": 0
      },
      "text/plain": [
       "Generate report structure:   0%|          | 0/1 [00:00<?, ?it/s]"
      ]
     },
     "metadata": {},
     "output_type": "display_data"
    },
    {
     "data": {
      "application/vnd.jupyter.widget-view+json": {
       "model_id": "3db14d0f19514615a0d531dda04d643a",
       "version_major": 2,
       "version_minor": 0
      },
      "text/plain": [
       "Render HTML:   0%|          | 0/1 [00:00<?, ?it/s]"
      ]
     },
     "metadata": {},
     "output_type": "display_data"
    },
    {
     "data": {
      "application/vnd.jupyter.widget-view+json": {
       "model_id": "a79862b68c1d4c92a05cf2690afa6053",
       "version_major": 2,
       "version_minor": 0
      },
      "text/plain": [
       "Export report to file:   0%|          | 0/1 [00:00<?, ?it/s]"
      ]
     },
     "metadata": {},
     "output_type": "display_data"
    },
    {
     "name": "stdout",
     "output_type": "stream",
     "text": [
      "museudainconfidencia_-_acervo-museologico concluído em  0.26 segundos.\n",
      "\n",
      "museudasmissoes_-_acervo-museologico iniciado\n"
     ]
    },
    {
     "data": {
      "application/vnd.jupyter.widget-view+json": {
       "model_id": "a94307a4d2804cf3b6222c106a6559a0",
       "version_major": 2,
       "version_minor": 0
      },
      "text/plain": [
       "Summarize dataset:   0%|          | 0/5 [00:00<?, ?it/s]"
      ]
     },
     "metadata": {},
     "output_type": "display_data"
    },
    {
     "data": {
      "application/vnd.jupyter.widget-view+json": {
       "model_id": "2954db7aa9a44b359416d775f9c79f22",
       "version_major": 2,
       "version_minor": 0
      },
      "text/plain": [
       "Generate report structure:   0%|          | 0/1 [00:00<?, ?it/s]"
      ]
     },
     "metadata": {},
     "output_type": "display_data"
    },
    {
     "data": {
      "application/vnd.jupyter.widget-view+json": {
       "model_id": "d9cb2ccbb9e947f1a8f6fc3f4d7cc47f",
       "version_major": 2,
       "version_minor": 0
      },
      "text/plain": [
       "Render HTML:   0%|          | 0/1 [00:00<?, ?it/s]"
      ]
     },
     "metadata": {},
     "output_type": "display_data"
    },
    {
     "data": {
      "application/vnd.jupyter.widget-view+json": {
       "model_id": "ca1a92f4cca54ad698995efc13ff4765",
       "version_major": 2,
       "version_minor": 0
      },
      "text/plain": [
       "Export report to file:   0%|          | 0/1 [00:00<?, ?it/s]"
      ]
     },
     "metadata": {},
     "output_type": "display_data"
    },
    {
     "name": "stdout",
     "output_type": "stream",
     "text": [
      "museudasmissoes_-_acervo-museologico concluído em  0.2 segundos.\n",
      "\n",
      "museudearqueologiadeitaipu_-_museu-itaipu iniciado\n"
     ]
    },
    {
     "data": {
      "application/vnd.jupyter.widget-view+json": {
       "model_id": "661f30a012eb4ee8a22d72a3104b1bfd",
       "version_major": 2,
       "version_minor": 0
      },
      "text/plain": [
       "Summarize dataset:   0%|          | 0/5 [00:00<?, ?it/s]"
      ]
     },
     "metadata": {},
     "output_type": "display_data"
    },
    {
     "name": "stderr",
     "output_type": "stream",
     "text": [
      "C:\\ProgramData\\Anaconda3\\lib\\site-packages\\pandas_profiling\\model\\correlations.py:55: UserWarning: There was an attempt to calculate the cramers correlation, but this failed.\n",
      "To hide this warning, disable the calculation\n",
      "(using `df.profile_report(correlations={\"cramers\": {\"calculate\": False}})`\n",
      "If this is problematic for your use case, please report this as an issue:\n",
      "https://github.com/pandas-profiling/pandas-profiling/issues\n",
      "(include the error message: 'No data; `observed` has size 0.')\n",
      "  warnings.warn(\n"
     ]
    },
    {
     "data": {
      "application/vnd.jupyter.widget-view+json": {
       "model_id": "70303cea84274dc28131ea47d59ff25a",
       "version_major": 2,
       "version_minor": 0
      },
      "text/plain": [
       "Generate report structure:   0%|          | 0/1 [00:00<?, ?it/s]"
      ]
     },
     "metadata": {},
     "output_type": "display_data"
    },
    {
     "data": {
      "application/vnd.jupyter.widget-view+json": {
       "model_id": "07832bcdd84e48b7a106cd86ff4e8eee",
       "version_major": 2,
       "version_minor": 0
      },
      "text/plain": [
       "Render HTML:   0%|          | 0/1 [00:00<?, ?it/s]"
      ]
     },
     "metadata": {},
     "output_type": "display_data"
    },
    {
     "data": {
      "application/vnd.jupyter.widget-view+json": {
       "model_id": "a51ba0c4232541b3afbf5b4d3b1383a8",
       "version_major": 2,
       "version_minor": 0
      },
      "text/plain": [
       "Export report to file:   0%|          | 0/1 [00:00<?, ?it/s]"
      ]
     },
     "metadata": {},
     "output_type": "display_data"
    },
    {
     "name": "stdout",
     "output_type": "stream",
     "text": [
      "museudearqueologiadeitaipu_-_museu-itaipu concluído em  0.17 segundos.\n",
      "\n",
      "museudeartereligiosaetradicional_-_acervo-museologico iniciado\n"
     ]
    },
    {
     "data": {
      "application/vnd.jupyter.widget-view+json": {
       "model_id": "9e0cd012377f400aa17d70b942e26acd",
       "version_major": 2,
       "version_minor": 0
      },
      "text/plain": [
       "Summarize dataset:   0%|          | 0/5 [00:00<?, ?it/s]"
      ]
     },
     "metadata": {},
     "output_type": "display_data"
    },
    {
     "name": "stderr",
     "output_type": "stream",
     "text": [
      "C:\\ProgramData\\Anaconda3\\lib\\site-packages\\pandas_profiling\\model\\correlations.py:55: UserWarning: There was an attempt to calculate the cramers correlation, but this failed.\n",
      "To hide this warning, disable the calculation\n",
      "(using `df.profile_report(correlations={\"cramers\": {\"calculate\": False}})`\n",
      "If this is problematic for your use case, please report this as an issue:\n",
      "https://github.com/pandas-profiling/pandas-profiling/issues\n",
      "(include the error message: 'No data; `observed` has size 0.')\n",
      "  warnings.warn(\n"
     ]
    },
    {
     "data": {
      "application/vnd.jupyter.widget-view+json": {
       "model_id": "19d9c95c93544a87ad76e0210326541d",
       "version_major": 2,
       "version_minor": 0
      },
      "text/plain": [
       "Generate report structure:   0%|          | 0/1 [00:00<?, ?it/s]"
      ]
     },
     "metadata": {},
     "output_type": "display_data"
    },
    {
     "data": {
      "application/vnd.jupyter.widget-view+json": {
       "model_id": "d742d583a0d449958ebcdc7fc6c1733d",
       "version_major": 2,
       "version_minor": 0
      },
      "text/plain": [
       "Render HTML:   0%|          | 0/1 [00:00<?, ?it/s]"
      ]
     },
     "metadata": {},
     "output_type": "display_data"
    },
    {
     "data": {
      "application/vnd.jupyter.widget-view+json": {
       "model_id": "034c031a170b4628bb7a7c9869c8ab0d",
       "version_major": 2,
       "version_minor": 0
      },
      "text/plain": [
       "Export report to file:   0%|          | 0/1 [00:00<?, ?it/s]"
      ]
     },
     "metadata": {},
     "output_type": "display_data"
    },
    {
     "name": "stdout",
     "output_type": "stream",
     "text": [
      "museudeartereligiosaetradicional_-_acervo-museologico concluído em  0.11 segundos.\n",
      "\n",
      "museudodiamante_-_acervo-museologico iniciado\n"
     ]
    },
    {
     "data": {
      "application/vnd.jupyter.widget-view+json": {
       "model_id": "828e4e6e848842769563eca343810e34",
       "version_major": 2,
       "version_minor": 0
      },
      "text/plain": [
       "Summarize dataset:   0%|          | 0/5 [00:00<?, ?it/s]"
      ]
     },
     "metadata": {},
     "output_type": "display_data"
    },
    {
     "name": "stderr",
     "output_type": "stream",
     "text": [
      "C:\\ProgramData\\Anaconda3\\lib\\site-packages\\pandas_profiling\\model\\correlations.py:55: UserWarning: There was an attempt to calculate the cramers correlation, but this failed.\n",
      "To hide this warning, disable the calculation\n",
      "(using `df.profile_report(correlations={\"cramers\": {\"calculate\": False}})`\n",
      "If this is problematic for your use case, please report this as an issue:\n",
      "https://github.com/pandas-profiling/pandas-profiling/issues\n",
      "(include the error message: 'No data; `observed` has size 0.')\n",
      "  warnings.warn(\n"
     ]
    },
    {
     "data": {
      "application/vnd.jupyter.widget-view+json": {
       "model_id": "b6bf825ea9e84f75b4afa8c4173085ed",
       "version_major": 2,
       "version_minor": 0
      },
      "text/plain": [
       "Generate report structure:   0%|          | 0/1 [00:00<?, ?it/s]"
      ]
     },
     "metadata": {},
     "output_type": "display_data"
    },
    {
     "data": {
      "application/vnd.jupyter.widget-view+json": {
       "model_id": "f9cafe3878974cedb774231562b5b391",
       "version_major": 2,
       "version_minor": 0
      },
      "text/plain": [
       "Render HTML:   0%|          | 0/1 [00:00<?, ?it/s]"
      ]
     },
     "metadata": {},
     "output_type": "display_data"
    },
    {
     "data": {
      "application/vnd.jupyter.widget-view+json": {
       "model_id": "f68f7f96b4c9456e9bf9e265c2397955",
       "version_major": 2,
       "version_minor": 0
      },
      "text/plain": [
       "Export report to file:   0%|          | 0/1 [00:00<?, ?it/s]"
      ]
     },
     "metadata": {},
     "output_type": "display_data"
    },
    {
     "name": "stdout",
     "output_type": "stream",
     "text": [
      "museudodiamante_-_acervo-museologico concluído em  0.19 segundos.\n",
      "\n",
      "museudoouro_-_acervo iniciado\n"
     ]
    },
    {
     "data": {
      "application/vnd.jupyter.widget-view+json": {
       "model_id": "d6b4138f23704994ae49f5d4f82233e4",
       "version_major": 2,
       "version_minor": 0
      },
      "text/plain": [
       "Summarize dataset:   0%|          | 0/5 [00:00<?, ?it/s]"
      ]
     },
     "metadata": {},
     "output_type": "display_data"
    },
    {
     "data": {
      "application/vnd.jupyter.widget-view+json": {
       "model_id": "516534fb47a142699582fb1d231ca434",
       "version_major": 2,
       "version_minor": 0
      },
      "text/plain": [
       "Generate report structure:   0%|          | 0/1 [00:00<?, ?it/s]"
      ]
     },
     "metadata": {},
     "output_type": "display_data"
    },
    {
     "data": {
      "application/vnd.jupyter.widget-view+json": {
       "model_id": "0034c874be3b4d4b9569b5bc556eade0",
       "version_major": 2,
       "version_minor": 0
      },
      "text/plain": [
       "Render HTML:   0%|          | 0/1 [00:00<?, ?it/s]"
      ]
     },
     "metadata": {},
     "output_type": "display_data"
    },
    {
     "data": {
      "application/vnd.jupyter.widget-view+json": {
       "model_id": "4283ffdfeeb94480b50a2dd7bb1f9e5f",
       "version_major": 2,
       "version_minor": 0
      },
      "text/plain": [
       "Export report to file:   0%|          | 0/1 [00:00<?, ?it/s]"
      ]
     },
     "metadata": {},
     "output_type": "display_data"
    },
    {
     "name": "stdout",
     "output_type": "stream",
     "text": [
      "museudoouro_-_acervo concluído em  0.18 segundos.\n",
      "\n",
      "museuregionalcasadosottoni_-_acervo-museologico iniciado\n"
     ]
    },
    {
     "data": {
      "application/vnd.jupyter.widget-view+json": {
       "model_id": "9d1e159093db4b56a3c634af38671f32",
       "version_major": 2,
       "version_minor": 0
      },
      "text/plain": [
       "Summarize dataset:   0%|          | 0/5 [00:00<?, ?it/s]"
      ]
     },
     "metadata": {},
     "output_type": "display_data"
    },
    {
     "name": "stderr",
     "output_type": "stream",
     "text": [
      "C:\\ProgramData\\Anaconda3\\lib\\site-packages\\pandas_profiling\\model\\correlations.py:55: UserWarning: There was an attempt to calculate the cramers correlation, but this failed.\n",
      "To hide this warning, disable the calculation\n",
      "(using `df.profile_report(correlations={\"cramers\": {\"calculate\": False}})`\n",
      "If this is problematic for your use case, please report this as an issue:\n",
      "https://github.com/pandas-profiling/pandas-profiling/issues\n",
      "(include the error message: 'No data; `observed` has size 0.')\n",
      "  warnings.warn(\n"
     ]
    },
    {
     "data": {
      "application/vnd.jupyter.widget-view+json": {
       "model_id": "9f8f1b25fc084486acb33a0cc56214bb",
       "version_major": 2,
       "version_minor": 0
      },
      "text/plain": [
       "Generate report structure:   0%|          | 0/1 [00:00<?, ?it/s]"
      ]
     },
     "metadata": {},
     "output_type": "display_data"
    },
    {
     "data": {
      "application/vnd.jupyter.widget-view+json": {
       "model_id": "2bd45a97bd45492f99fefa0d8662eda0",
       "version_major": 2,
       "version_minor": 0
      },
      "text/plain": [
       "Render HTML:   0%|          | 0/1 [00:00<?, ?it/s]"
      ]
     },
     "metadata": {},
     "output_type": "display_data"
    },
    {
     "data": {
      "application/vnd.jupyter.widget-view+json": {
       "model_id": "f3b75c58acad4db9a283987360bfbe32",
       "version_major": 2,
       "version_minor": 0
      },
      "text/plain": [
       "Export report to file:   0%|          | 0/1 [00:00<?, ?it/s]"
      ]
     },
     "metadata": {},
     "output_type": "display_data"
    },
    {
     "name": "stdout",
     "output_type": "stream",
     "text": [
      "museuregionalcasadosottoni_-_acervo-museologico concluído em  0.19 segundos.\n",
      "\n",
      "museuregionaldecaete_-_acervo iniciado\n"
     ]
    },
    {
     "data": {
      "application/vnd.jupyter.widget-view+json": {
       "model_id": "ac1f30327acd4af6b6390b19ee51d70b",
       "version_major": 2,
       "version_minor": 0
      },
      "text/plain": [
       "Summarize dataset:   0%|          | 0/5 [00:00<?, ?it/s]"
      ]
     },
     "metadata": {},
     "output_type": "display_data"
    },
    {
     "name": "stderr",
     "output_type": "stream",
     "text": [
      "C:\\ProgramData\\Anaconda3\\lib\\site-packages\\pandas_profiling\\model\\correlations.py:55: UserWarning: There was an attempt to calculate the cramers correlation, but this failed.\n",
      "To hide this warning, disable the calculation\n",
      "(using `df.profile_report(correlations={\"cramers\": {\"calculate\": False}})`\n",
      "If this is problematic for your use case, please report this as an issue:\n",
      "https://github.com/pandas-profiling/pandas-profiling/issues\n",
      "(include the error message: 'No data; `observed` has size 0.')\n",
      "  warnings.warn(\n"
     ]
    },
    {
     "data": {
      "application/vnd.jupyter.widget-view+json": {
       "model_id": "4d311ab3ba0d4a33a5f7d21e38e60aa1",
       "version_major": 2,
       "version_minor": 0
      },
      "text/plain": [
       "Generate report structure:   0%|          | 0/1 [00:00<?, ?it/s]"
      ]
     },
     "metadata": {},
     "output_type": "display_data"
    },
    {
     "data": {
      "application/vnd.jupyter.widget-view+json": {
       "model_id": "93aea0f241ea4002909ca52e3be57aa5",
       "version_major": 2,
       "version_minor": 0
      },
      "text/plain": [
       "Render HTML:   0%|          | 0/1 [00:00<?, ?it/s]"
      ]
     },
     "metadata": {},
     "output_type": "display_data"
    },
    {
     "data": {
      "application/vnd.jupyter.widget-view+json": {
       "model_id": "e3e913d75e824051a26d672f73334666",
       "version_major": 2,
       "version_minor": 0
      },
      "text/plain": [
       "Export report to file:   0%|          | 0/1 [00:00<?, ?it/s]"
      ]
     },
     "metadata": {},
     "output_type": "display_data"
    },
    {
     "name": "stdout",
     "output_type": "stream",
     "text": [
      "museuregionaldecaete_-_acervo concluído em  0.18 segundos.\n",
      "\n",
      "museuregionaldesaojoaodelrei_-_acervo_museologico iniciado\n"
     ]
    },
    {
     "data": {
      "application/vnd.jupyter.widget-view+json": {
       "model_id": "8e3a947f92014bceb92bb144a056c4cb",
       "version_major": 2,
       "version_minor": 0
      },
      "text/plain": [
       "Summarize dataset:   0%|          | 0/5 [00:00<?, ?it/s]"
      ]
     },
     "metadata": {},
     "output_type": "display_data"
    },
    {
     "name": "stderr",
     "output_type": "stream",
     "text": [
      "C:\\ProgramData\\Anaconda3\\lib\\site-packages\\pandas_profiling\\model\\correlations.py:55: UserWarning: There was an attempt to calculate the cramers correlation, but this failed.\n",
      "To hide this warning, disable the calculation\n",
      "(using `df.profile_report(correlations={\"cramers\": {\"calculate\": False}})`\n",
      "If this is problematic for your use case, please report this as an issue:\n",
      "https://github.com/pandas-profiling/pandas-profiling/issues\n",
      "(include the error message: 'No data; `observed` has size 0.')\n",
      "  warnings.warn(\n"
     ]
    },
    {
     "data": {
      "application/vnd.jupyter.widget-view+json": {
       "model_id": "9885077f49694b55b87392dc9ab36fce",
       "version_major": 2,
       "version_minor": 0
      },
      "text/plain": [
       "Generate report structure:   0%|          | 0/1 [00:00<?, ?it/s]"
      ]
     },
     "metadata": {},
     "output_type": "display_data"
    },
    {
     "data": {
      "application/vnd.jupyter.widget-view+json": {
       "model_id": "57f792a75df54bfebc252f29757c9348",
       "version_major": 2,
       "version_minor": 0
      },
      "text/plain": [
       "Render HTML:   0%|          | 0/1 [00:00<?, ?it/s]"
      ]
     },
     "metadata": {},
     "output_type": "display_data"
    },
    {
     "data": {
      "application/vnd.jupyter.widget-view+json": {
       "model_id": "57f18d7e54704fc38a80ac63a431072e",
       "version_major": 2,
       "version_minor": 0
      },
      "text/plain": [
       "Export report to file:   0%|          | 0/1 [00:00<?, ?it/s]"
      ]
     },
     "metadata": {},
     "output_type": "display_data"
    },
    {
     "name": "stdout",
     "output_type": "stream",
     "text": [
      "museuregionaldesaojoaodelrei_-_acervo_museologico concluído em  0.18 segundos.\n",
      "\n",
      "museusibramgoias_-_museu-casa-da-boa-morte iniciado\n"
     ]
    },
    {
     "data": {
      "application/vnd.jupyter.widget-view+json": {
       "model_id": "a969eb4e3b674be58fc6b0567f3131ad",
       "version_major": 2,
       "version_minor": 0
      },
      "text/plain": [
       "Summarize dataset:   0%|          | 0/5 [00:00<?, ?it/s]"
      ]
     },
     "metadata": {},
     "output_type": "display_data"
    },
    {
     "name": "stderr",
     "output_type": "stream",
     "text": [
      "C:\\ProgramData\\Anaconda3\\lib\\site-packages\\pandas_profiling\\model\\correlations.py:55: UserWarning: There was an attempt to calculate the cramers correlation, but this failed.\n",
      "To hide this warning, disable the calculation\n",
      "(using `df.profile_report(correlations={\"cramers\": {\"calculate\": False}})`\n",
      "If this is problematic for your use case, please report this as an issue:\n",
      "https://github.com/pandas-profiling/pandas-profiling/issues\n",
      "(include the error message: 'No data; `observed` has size 0.')\n",
      "  warnings.warn(\n"
     ]
    },
    {
     "data": {
      "application/vnd.jupyter.widget-view+json": {
       "model_id": "d7a8b044db9f46e897bb8862af784c24",
       "version_major": 2,
       "version_minor": 0
      },
      "text/plain": [
       "Generate report structure:   0%|          | 0/1 [00:00<?, ?it/s]"
      ]
     },
     "metadata": {},
     "output_type": "display_data"
    },
    {
     "data": {
      "application/vnd.jupyter.widget-view+json": {
       "model_id": "04aa59e744374948914b66175e7c9382",
       "version_major": 2,
       "version_minor": 0
      },
      "text/plain": [
       "Render HTML:   0%|          | 0/1 [00:00<?, ?it/s]"
      ]
     },
     "metadata": {},
     "output_type": "display_data"
    },
    {
     "data": {
      "application/vnd.jupyter.widget-view+json": {
       "model_id": "e9096c287287419494268714056e4bd8",
       "version_major": 2,
       "version_minor": 0
      },
      "text/plain": [
       "Export report to file:   0%|          | 0/1 [00:00<?, ?it/s]"
      ]
     },
     "metadata": {},
     "output_type": "display_data"
    },
    {
     "name": "stdout",
     "output_type": "stream",
     "text": [
      "museusibramgoias_-_museu-casa-da-boa-morte concluído em  0.16 segundos.\n",
      "\n",
      "museusibramgoias_-_museu-casa-da-princesa iniciado\n"
     ]
    },
    {
     "data": {
      "application/vnd.jupyter.widget-view+json": {
       "model_id": "639bc3bbf71f40a1a0b482f0409056b6",
       "version_major": 2,
       "version_minor": 0
      },
      "text/plain": [
       "Summarize dataset:   0%|          | 0/5 [00:00<?, ?it/s]"
      ]
     },
     "metadata": {},
     "output_type": "display_data"
    },
    {
     "name": "stderr",
     "output_type": "stream",
     "text": [
      "C:\\ProgramData\\Anaconda3\\lib\\site-packages\\pandas_profiling\\model\\correlations.py:55: UserWarning: There was an attempt to calculate the cramers correlation, but this failed.\n",
      "To hide this warning, disable the calculation\n",
      "(using `df.profile_report(correlations={\"cramers\": {\"calculate\": False}})`\n",
      "If this is problematic for your use case, please report this as an issue:\n",
      "https://github.com/pandas-profiling/pandas-profiling/issues\n",
      "(include the error message: 'No data; `observed` has size 0.')\n",
      "  warnings.warn(\n"
     ]
    },
    {
     "data": {
      "application/vnd.jupyter.widget-view+json": {
       "model_id": "b086697c1efb4fef8998a22d8872ac72",
       "version_major": 2,
       "version_minor": 0
      },
      "text/plain": [
       "Generate report structure:   0%|          | 0/1 [00:00<?, ?it/s]"
      ]
     },
     "metadata": {},
     "output_type": "display_data"
    },
    {
     "data": {
      "application/vnd.jupyter.widget-view+json": {
       "model_id": "6b9c61022f344e5882ada469cebd23e2",
       "version_major": 2,
       "version_minor": 0
      },
      "text/plain": [
       "Render HTML:   0%|          | 0/1 [00:00<?, ?it/s]"
      ]
     },
     "metadata": {},
     "output_type": "display_data"
    },
    {
     "data": {
      "application/vnd.jupyter.widget-view+json": {
       "model_id": "c3ebec8b815e44f38f0a5bfd7bcb9eca",
       "version_major": 2,
       "version_minor": 0
      },
      "text/plain": [
       "Export report to file:   0%|          | 0/1 [00:00<?, ?it/s]"
      ]
     },
     "metadata": {},
     "output_type": "display_data"
    },
    {
     "name": "stdout",
     "output_type": "stream",
     "text": [
      "museusibramgoias_-_museu-casa-da-princesa concluído em  0.16 segundos.\n",
      "\n",
      "museusibramgoias_-_museu-das-bandeiras iniciado\n"
     ]
    },
    {
     "data": {
      "application/vnd.jupyter.widget-view+json": {
       "model_id": "ac4d0b688c1841e08f0a12b3c7663a7d",
       "version_major": 2,
       "version_minor": 0
      },
      "text/plain": [
       "Summarize dataset:   0%|          | 0/5 [00:00<?, ?it/s]"
      ]
     },
     "metadata": {},
     "output_type": "display_data"
    },
    {
     "data": {
      "application/vnd.jupyter.widget-view+json": {
       "model_id": "749be5c4bb4247aca09f10eff23c6532",
       "version_major": 2,
       "version_minor": 0
      },
      "text/plain": [
       "Generate report structure:   0%|          | 0/1 [00:00<?, ?it/s]"
      ]
     },
     "metadata": {},
     "output_type": "display_data"
    },
    {
     "data": {
      "application/vnd.jupyter.widget-view+json": {
       "model_id": "62d89df03d92439688e0a66fc51a2167",
       "version_major": 2,
       "version_minor": 0
      },
      "text/plain": [
       "Render HTML:   0%|          | 0/1 [00:00<?, ?it/s]"
      ]
     },
     "metadata": {},
     "output_type": "display_data"
    },
    {
     "data": {
      "application/vnd.jupyter.widget-view+json": {
       "model_id": "175e24c5bf704e4d9798078246b36f03",
       "version_major": 2,
       "version_minor": 0
      },
      "text/plain": [
       "Export report to file:   0%|          | 0/1 [00:00<?, ?it/s]"
      ]
     },
     "metadata": {},
     "output_type": "display_data"
    },
    {
     "name": "stdout",
     "output_type": "stream",
     "text": [
      "museusibramgoias_-_museu-das-bandeiras concluído em  0.16 segundos.\n",
      "\n",
      "museusolarmonjardim_-_acervo iniciado\n"
     ]
    },
    {
     "data": {
      "application/vnd.jupyter.widget-view+json": {
       "model_id": "20127cfc93c6465d84fc9abeafc0d37c",
       "version_major": 2,
       "version_minor": 0
      },
      "text/plain": [
       "Summarize dataset:   0%|          | 0/5 [00:00<?, ?it/s]"
      ]
     },
     "metadata": {},
     "output_type": "display_data"
    },
    {
     "data": {
      "application/vnd.jupyter.widget-view+json": {
       "model_id": "8b21843aead048bcbf25982423723a95",
       "version_major": 2,
       "version_minor": 0
      },
      "text/plain": [
       "Generate report structure:   0%|          | 0/1 [00:00<?, ?it/s]"
      ]
     },
     "metadata": {},
     "output_type": "display_data"
    },
    {
     "data": {
      "application/vnd.jupyter.widget-view+json": {
       "model_id": "b5796d6d015f4ddaaf3daafd42206cf3",
       "version_major": 2,
       "version_minor": 0
      },
      "text/plain": [
       "Render HTML:   0%|          | 0/1 [00:00<?, ?it/s]"
      ]
     },
     "metadata": {},
     "output_type": "display_data"
    },
    {
     "data": {
      "application/vnd.jupyter.widget-view+json": {
       "model_id": "1e728cb4b07b4120ad57a9de275bd3cf",
       "version_major": 2,
       "version_minor": 0
      },
      "text/plain": [
       "Export report to file:   0%|          | 0/1 [00:00<?, ?it/s]"
      ]
     },
     "metadata": {},
     "output_type": "display_data"
    },
    {
     "name": "stdout",
     "output_type": "stream",
     "text": [
      "museusolarmonjardim_-_acervo concluído em  0.17 segundos.\n",
      "\n",
      "museusolarmonjardim_-_documentos-historicos iniciado\n"
     ]
    },
    {
     "data": {
      "application/vnd.jupyter.widget-view+json": {
       "model_id": "de9cfb87128d4419934ceb4e4ecf9e18",
       "version_major": 2,
       "version_minor": 0
      },
      "text/plain": [
       "Summarize dataset:   0%|          | 0/5 [00:00<?, ?it/s]"
      ]
     },
     "metadata": {},
     "output_type": "display_data"
    },
    {
     "data": {
      "application/vnd.jupyter.widget-view+json": {
       "model_id": "cd62d0775acf4dc4ba8c832b74448229",
       "version_major": 2,
       "version_minor": 0
      },
      "text/plain": [
       "Generate report structure:   0%|          | 0/1 [00:00<?, ?it/s]"
      ]
     },
     "metadata": {},
     "output_type": "display_data"
    },
    {
     "data": {
      "application/vnd.jupyter.widget-view+json": {
       "model_id": "16d2f57eee84472eb81083c74f49737b",
       "version_major": 2,
       "version_minor": 0
      },
      "text/plain": [
       "Render HTML:   0%|          | 0/1 [00:00<?, ?it/s]"
      ]
     },
     "metadata": {},
     "output_type": "display_data"
    },
    {
     "data": {
      "application/vnd.jupyter.widget-view+json": {
       "model_id": "5501895211b04790add9a1b209140d6a",
       "version_major": 2,
       "version_minor": 0
      },
      "text/plain": [
       "Export report to file:   0%|          | 0/1 [00:00<?, ?it/s]"
      ]
     },
     "metadata": {},
     "output_type": "display_data"
    },
    {
     "name": "stdout",
     "output_type": "stream",
     "text": [
      "museusolarmonjardim_-_documentos-historicos concluído em  0.19 segundos.\n",
      "\n",
      "museuvictormeirelles_-_mvm-acervo iniciado\n"
     ]
    },
    {
     "data": {
      "application/vnd.jupyter.widget-view+json": {
       "model_id": "318f0675c8cf44bb93abbae1ba7e26c6",
       "version_major": 2,
       "version_minor": 0
      },
      "text/plain": [
       "Summarize dataset:   0%|          | 0/5 [00:00<?, ?it/s]"
      ]
     },
     "metadata": {},
     "output_type": "display_data"
    },
    {
     "data": {
      "application/vnd.jupyter.widget-view+json": {
       "model_id": "6d8dde93dc16480185954999744d8494",
       "version_major": 2,
       "version_minor": 0
      },
      "text/plain": [
       "Generate report structure:   0%|          | 0/1 [00:00<?, ?it/s]"
      ]
     },
     "metadata": {},
     "output_type": "display_data"
    },
    {
     "data": {
      "application/vnd.jupyter.widget-view+json": {
       "model_id": "377a3e31661d46feb4d99060c0b910c8",
       "version_major": 2,
       "version_minor": 0
      },
      "text/plain": [
       "Render HTML:   0%|          | 0/1 [00:00<?, ?it/s]"
      ]
     },
     "metadata": {},
     "output_type": "display_data"
    },
    {
     "data": {
      "application/vnd.jupyter.widget-view+json": {
       "model_id": "4f9cee85370c49e59038a0c9d785f720",
       "version_major": 2,
       "version_minor": 0
      },
      "text/plain": [
       "Export report to file:   0%|          | 0/1 [00:00<?, ?it/s]"
      ]
     },
     "metadata": {},
     "output_type": "display_data"
    },
    {
     "name": "stdout",
     "output_type": "stream",
     "text": [
      "museuvictormeirelles_-_mvm-acervo concluído em  0.19 segundos.\n",
      "\n",
      "museuvillalobos_-_fotografias iniciado\n"
     ]
    },
    {
     "data": {
      "application/vnd.jupyter.widget-view+json": {
       "model_id": "10f4791ab0c64f75b8d737a377b13fb8",
       "version_major": 2,
       "version_minor": 0
      },
      "text/plain": [
       "Summarize dataset:   0%|          | 0/5 [00:00<?, ?it/s]"
      ]
     },
     "metadata": {},
     "output_type": "display_data"
    },
    {
     "data": {
      "application/vnd.jupyter.widget-view+json": {
       "model_id": "3e4889c34bfa4e2d86067402d5f6995e",
       "version_major": 2,
       "version_minor": 0
      },
      "text/plain": [
       "Generate report structure:   0%|          | 0/1 [00:00<?, ?it/s]"
      ]
     },
     "metadata": {},
     "output_type": "display_data"
    },
    {
     "data": {
      "application/vnd.jupyter.widget-view+json": {
       "model_id": "a68e3c6d2fd4467a81d7ad6b30c7c6d3",
       "version_major": 2,
       "version_minor": 0
      },
      "text/plain": [
       "Render HTML:   0%|          | 0/1 [00:00<?, ?it/s]"
      ]
     },
     "metadata": {},
     "output_type": "display_data"
    },
    {
     "data": {
      "application/vnd.jupyter.widget-view+json": {
       "model_id": "1c4ac7c7b80040769ce2ca66ed81db54",
       "version_major": 2,
       "version_minor": 0
      },
      "text/plain": [
       "Export report to file:   0%|          | 0/1 [00:00<?, ?it/s]"
      ]
     },
     "metadata": {},
     "output_type": "display_data"
    },
    {
     "name": "stdout",
     "output_type": "stream",
     "text": [
      "museuvillalobos_-_fotografias concluído em  0.16 segundos.\n",
      "\n"
     ]
    }
   ],
   "source": [
    "print('Realizando dataprofiling das bases...\\n')\n",
    "for file in list_files:\n",
    "    tempo_inicio = time.time()\n",
    "    \n",
    "    nome = file.split(\"\\\\\")[1]\n",
    "    nome = nome.split(\".\")[0]\n",
    "    \n",
    "    print(nome, \"iniciado\")\n",
    "    dados = pd.read_csv(file, low_memory=False, index_col=0)\n",
    "\n",
    "    # Iniciar data profilling\n",
    "    titulo = \"Data profiling\" + nome\n",
    "    profile = ProfileReport(dados, title=titulo, explorative=True)\n",
    "    \n",
    "    arquivo = \"./Acervos dos museus/reports/\" + nome + \".html\"\n",
    "    # Gerar arquivo html\n",
    "    profile.to_file(arquivo)\n",
    "\n",
    "    tempo_fim = time.time()\n",
    "    tempo_gasto = ((tempo_fim - tempo_inicio)/60)\n",
    "    tempo_gasto = round(tempo_gasto, 2)\n",
    "    \n",
    "    print(nome, \"concluído em \", str(tempo_gasto),\"segundos.\\n\")"
   ]
  },
  {
   "cell_type": "code",
   "execution_count": 66,
   "id": "d87c5a71",
   "metadata": {},
   "outputs": [
    {
     "name": "stdout",
     "output_type": "stream",
     "text": [
      "concatenando todas as bases...\n",
      "OK -  mhn_-_reserva-tecnica\n",
      "OK -  museucasabenjaminconstant_-_acervo-museologico\n",
      "OK -  museucasadahera_-_acervo-museologico\n",
      "OK -  museucasadahera_-_indumentaria\n",
      "OK -  museucasahistoricadealcantara_-_objetos\n",
      "OK -  museudaabolicao_-_acervo_museologico\n",
      "OK -  museudainconfidencia_-_acervo-museologico\n",
      "OK -  museudasmissoes_-_acervo-museologico\n",
      "OK -  museudearqueologiadeitaipu_-_museu-itaipu\n",
      "OK -  museudeartereligiosaetradicional_-_acervo-museologico\n",
      "OK -  museudodiamante_-_acervo-museologico\n",
      "OK -  museudoouro_-_acervo\n",
      "OK -  museuregionalcasadosottoni_-_acervo-museologico\n",
      "OK -  museuregionaldecaete_-_acervo\n",
      "OK -  museuregionaldesaojoaodelrei_-_acervo_museologico\n",
      "OK -  museusibramgoias_-_museu-casa-da-boa-morte\n",
      "OK -  museusibramgoias_-_museu-casa-da-princesa\n",
      "OK -  museusibramgoias_-_museu-das-bandeiras\n",
      "OK -  museusolarmonjardim_-_acervo\n",
      "OK -  museusolarmonjardim_-_documentos-historicos\n",
      "OK -  museuvictormeirelles_-_mvm-acervo\n",
      "OK -  museuvillalobos_-_fotografias\n"
     ]
    },
    {
     "data": {
      "application/vnd.jupyter.widget-view+json": {
       "model_id": "b4f3c566d71f44f5b205c0ba99bcdedd",
       "version_major": 2,
       "version_minor": 0
      },
      "text/plain": [
       "Summarize dataset:   0%|          | 0/5 [00:00<?, ?it/s]"
      ]
     },
     "metadata": {},
     "output_type": "display_data"
    },
    {
     "name": "stderr",
     "output_type": "stream",
     "text": [
      "C:\\ProgramData\\Anaconda3\\lib\\site-packages\\pandas_profiling\\model\\correlations.py:55: UserWarning: There was an attempt to calculate the cramers correlation, but this failed.\n",
      "To hide this warning, disable the calculation\n",
      "(using `df.profile_report(correlations={\"cramers\": {\"calculate\": False}})`\n",
      "If this is problematic for your use case, please report this as an issue:\n",
      "https://github.com/pandas-profiling/pandas-profiling/issues\n",
      "(include the error message: 'No data; `observed` has size 0.')\n",
      "  warnings.warn(\n"
     ]
    },
    {
     "data": {
      "application/vnd.jupyter.widget-view+json": {
       "model_id": "0c6a6e77658843388fc094f08ca1cf7e",
       "version_major": 2,
       "version_minor": 0
      },
      "text/plain": [
       "Generate report structure:   0%|          | 0/1 [00:00<?, ?it/s]"
      ]
     },
     "metadata": {},
     "output_type": "display_data"
    },
    {
     "data": {
      "application/vnd.jupyter.widget-view+json": {
       "model_id": "f000a6f5bd57482fbd440557da1ad501",
       "version_major": 2,
       "version_minor": 0
      },
      "text/plain": [
       "Render HTML:   0%|          | 0/1 [00:00<?, ?it/s]"
      ]
     },
     "metadata": {},
     "output_type": "display_data"
    },
    {
     "data": {
      "application/vnd.jupyter.widget-view+json": {
       "model_id": "c7bbb0448ded4895b4618d64840abf50",
       "version_major": 2,
       "version_minor": 0
      },
      "text/plain": [
       "Export report to file:   0%|          | 0/1 [00:00<?, ?it/s]"
      ]
     },
     "metadata": {},
     "output_type": "display_data"
    },
    {
     "name": "stdout",
     "output_type": "stream",
     "text": [
      "Processamento completo em em  264.87 segundos.\n",
      "\n"
     ]
    }
   ],
   "source": [
    "print(\"concatenando todas as bases...\")\n",
    "base = pd.read_csv(list_files[0], index_col=0)\n",
    "list_files.pop(0)\n",
    "      \n",
    "for file in list_files:\n",
    "    nome = file.split(\"\\\\\")[1]\n",
    "    nome = nome.split(\".\")[0]\n",
    "      \n",
    "    temp = pd.read_csv(file, index_col=0)\n",
    "    base = pd.concat([base,temp], axis=0, ignore_index=True)\n",
    "    print(\"OK - \", nome)\n",
    "\n",
    "base.to_excel(\"./Acervos dos museus/Acervo_IBRAM.xlsx\")\n",
    "profile = ProfileReport(base, title=\"Data profiling Acervo_IBRAM\", explorative=True)\n",
    "\n",
    "profile.to_file(\"./Acervos dos museus/reports/Acervo_IBRAM.html\")\n",
    "fim_geral = time.time()\n",
    "tempo_gasto_geral = ((fim_geral - inicio_geral)/60)\n",
    "tempo_gasto_geral = round(tempo_gasto_geral, 2)\n",
    "    \n",
    "print(\"Processamento completo em em \", str(tempo_gasto_geral),\"segundos.\\n\")"
   ]
  }
 ],
 "metadata": {
  "kernelspec": {
   "display_name": "Python 3",
   "language": "python",
   "name": "python3"
  },
  "language_info": {
   "codemirror_mode": {
    "name": "ipython",
    "version": 3
   },
   "file_extension": ".py",
   "mimetype": "text/x-python",
   "name": "python",
   "nbconvert_exporter": "python",
   "pygments_lexer": "ipython3",
   "version": "3.8.8"
  }
 },
 "nbformat": 4,
 "nbformat_minor": 5
}
